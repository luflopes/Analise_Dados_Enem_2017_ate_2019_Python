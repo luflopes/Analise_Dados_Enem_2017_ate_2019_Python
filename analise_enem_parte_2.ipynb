{
 "cells": [
  {
   "cell_type": "markdown",
   "id": "a6ea1b23",
   "metadata": {},
   "source": [
    "# Análise de Dados do ENEM Edições 2017, 2018 e 2019\n",
    "### Parte 2"
   ]
  },
  {
   "cell_type": "markdown",
   "id": "5858c6aa",
   "metadata": {},
   "source": [
    "---\n",
    "#### Tratamento de Valores Missing (Premissas)\n",
    "\n",
    "* Os valores missing da coluna \"CO_ESCOLA\" serão excluídos uma vez que não é possível fazer uma predição 100% certa sobre cógigo da escola (variável categórica)<br><br>\n",
    "\n",
    "* Assumindo que os participantes fizeram a prova em uma escola que fica no mesmo município em que nasceram, os valores missing da coluna \"NO_MUNICIPIO_ESC\" serão substituídos pelos valores da coluna \"NO_MUNICIPIO_NASCIMENTO\".<br><br>\n",
    "\n",
    "* Assumindo que os participantes fizeram a prova na mesma unidade federativa (Estado) em que nasceram os valores missing da coluna \"SG_UF_ESC\" serão substituídos pelos valores da coluna \"SG_UF_NASCIMENTO\".<br><br>\n",
    "\n",
    "* As colunas que representam as notas terão os valores missing substituídos por 0 (Zero), assumindo que os participantes desistiram de realizar a prova. Neste caso, também poderíamos substituir pela mediana dos dados, mas correríamos o risco de comprometer a veracidade da informação de quantos alunos desistiram de realizar a prova.\n",
    "---"
   ]
  },
  {
   "cell_type": "markdown",
   "id": "d160a1a5",
   "metadata": {},
   "source": [
    "#### Importando as bibliotecas para análise de dados"
   ]
  },
  {
   "cell_type": "code",
   "execution_count": 1,
   "id": "bdffb7b6",
   "metadata": {},
   "outputs": [],
   "source": [
    "import pandas as pd\n",
    "import matplotlib.pyplot as plt\n",
    "import seaborn as sns\n",
    "import warnings\n",
    "import os\n",
    "warnings.filterwarnings('ignore')"
   ]
  },
  {
   "cell_type": "markdown",
   "id": "4d4f61d1",
   "metadata": {},
   "source": [
    "Importando o arquivo gerado com as edições do ENEM de 2017 até 2019."
   ]
  },
  {
   "cell_type": "code",
   "execution_count": 2,
   "id": "17ecca69",
   "metadata": {},
   "outputs": [],
   "source": [
    "dados_enem = pd.read_csv('DADOS/dados_enem_2017_ate_2019.csv',sep=';', encoding='ISO-8859-1')"
   ]
  },
  {
   "cell_type": "code",
   "execution_count": 3,
   "id": "b2b3d37f",
   "metadata": {
    "scrolled": false
   },
   "outputs": [],
   "source": [
    "del dados_enem['Unnamed: 0']"
   ]
  },
  {
   "cell_type": "markdown",
   "id": "f7dce9d9",
   "metadata": {},
   "source": [
    "Removendo os valores missing da coluna 'CO_ESCOLA'"
   ]
  },
  {
   "cell_type": "code",
   "execution_count": 4,
   "id": "b3fec69a",
   "metadata": {},
   "outputs": [],
   "source": [
    "dados_enem = dados_enem[dados_enem['CO_ESCOLA'].notna()]"
   ]
  },
  {
   "cell_type": "markdown",
   "id": "62609180",
   "metadata": {},
   "source": [
    "Substituindo os valores missing da coluna \"NO_MUNICIPIO_ESC\" pelos valores da coluna \"NO_MUNICIPIO_NASCIMENTO\""
   ]
  },
  {
   "cell_type": "code",
   "execution_count": 5,
   "id": "50a277db",
   "metadata": {},
   "outputs": [
    {
     "data": {
      "text/plain": [
       "47                    Itacoatiara\n",
       "84                       Salvador\n",
       "92                      São Paulo\n",
       "112         Santa Bárbara d'Oeste\n",
       "117                         Irecê\n",
       "                    ...          \n",
       "17340323                    Posse\n",
       "17340325    Santa Maria do Suaçuí\n",
       "17340327             Campo Grande\n",
       "17340328                 Macarani\n",
       "17340333                São Paulo\n",
       "Name: NO_MUNICIPIO_ESC, Length: 4382154, dtype: object"
      ]
     },
     "execution_count": 5,
     "metadata": {},
     "output_type": "execute_result"
    }
   ],
   "source": [
    "dados_enem['NO_MUNICIPIO_ESC'].combine_first(dados_enem['NO_MUNICIPIO_NASCIMENTO'])"
   ]
  },
  {
   "cell_type": "code",
   "execution_count": 6,
   "id": "34eb19e0",
   "metadata": {},
   "outputs": [
    {
     "data": {
      "text/plain": [
       "7"
      ]
     },
     "execution_count": 6,
     "metadata": {},
     "output_type": "execute_result"
    }
   ],
   "source": [
    "sum(pd.isna(dados_enem['NO_MUNICIPIO_ESC']))"
   ]
  },
  {
   "cell_type": "markdown",
   "id": "2efad906",
   "metadata": {},
   "source": [
    "Excluindo os 7 valores missing resultandes da coluna \"NO_MUNICIPIO_NASCIMENTO\", uma vez que não será possível determinar o\n",
    "nome do município se ele não estiver presente em nenhuma das duas colunas utilizadas"
   ]
  },
  {
   "cell_type": "code",
   "execution_count": 7,
   "id": "3a9a28be",
   "metadata": {},
   "outputs": [],
   "source": [
    "dados_enem = dados_enem[dados_enem['NO_MUNICIPIO_ESC'].notna()]"
   ]
  },
  {
   "cell_type": "markdown",
   "id": "4bc995ac",
   "metadata": {},
   "source": [
    "Substituindo os valores missing da coluna \"SG_UF_ESC\" pelos valores da coluna \"SG_UF_NASCIMENTO\" uma vez que não será \n",
    "possível determinar a UF se ele não estiver presente em nenhuma das duas colunas utilizadas"
   ]
  },
  {
   "cell_type": "code",
   "execution_count": 8,
   "id": "54cb93b3",
   "metadata": {
    "scrolled": true
   },
   "outputs": [
    {
     "data": {
      "text/plain": [
       "47          AM\n",
       "84          BA\n",
       "92          SP\n",
       "112         SP\n",
       "117         BA\n",
       "            ..\n",
       "17340323    GO\n",
       "17340325    MG\n",
       "17340327    MS\n",
       "17340328    BA\n",
       "17340333    SP\n",
       "Name: SG_UF_ESC, Length: 4382147, dtype: object"
      ]
     },
     "execution_count": 8,
     "metadata": {},
     "output_type": "execute_result"
    }
   ],
   "source": [
    "dados_enem['SG_UF_ESC'].combine_first(dados_enem['SG_UF_NASCIMENTO'])"
   ]
  },
  {
   "cell_type": "code",
   "execution_count": 9,
   "id": "92878457",
   "metadata": {},
   "outputs": [
    {
     "data": {
      "text/plain": [
       "0"
      ]
     },
     "execution_count": 9,
     "metadata": {},
     "output_type": "execute_result"
    }
   ],
   "source": [
    "sum(pd.isna(dados_enem['SG_UF_ESC']))"
   ]
  },
  {
   "cell_type": "markdown",
   "id": "81d2c9ac",
   "metadata": {},
   "source": [
    "Excluindo as colunas 'SG_UF_NASCIMENTO' e 'NO_MUNICIPIO_NASCIMENTO' uma vez que não serão mais utilizadas na análise"
   ]
  },
  {
   "cell_type": "code",
   "execution_count": 10,
   "id": "37012235",
   "metadata": {},
   "outputs": [],
   "source": [
    "del dados_enem['SG_UF_NASCIMENTO']\n",
    "del dados_enem['NO_MUNICIPIO_NASCIMENTO']"
   ]
  },
  {
   "cell_type": "markdown",
   "id": "25be36ba",
   "metadata": {},
   "source": [
    "Substituindo os valores missing das colunas de nota por 0 (Zero)\n",
    "Aqui entendemos que os valores 0 representam participantes que não foram realizar a prova"
   ]
  },
  {
   "cell_type": "code",
   "execution_count": 11,
   "id": "cd31ed9f",
   "metadata": {},
   "outputs": [],
   "source": [
    "dados_enem['NU_NOTA_CN'].fillna(0, inplace = True)\n",
    "dados_enem['NU_NOTA_CH'].fillna(0, inplace = True)\n",
    "dados_enem['NU_NOTA_LC'].fillna(0, inplace = True)\n",
    "dados_enem['NU_NOTA_MT'].fillna(0, inplace = True)\n",
    "dados_enem['NU_NOTA_REDACAO'].fillna(0, inplace = True)"
   ]
  },
  {
   "cell_type": "markdown",
   "id": "530fa450",
   "metadata": {},
   "source": [
    "Verificando se ainda há valores missing nas colunas"
   ]
  },
  {
   "cell_type": "code",
   "execution_count": 12,
   "id": "a2ba062b",
   "metadata": {
    "scrolled": false
   },
   "outputs": [
    {
     "name": "stdout",
     "output_type": "stream",
     "text": [
      "\n",
      "\n",
      "Tabela: Quantidade de valores missing presentes no conjunto de dados: \n",
      "\n"
     ]
    },
    {
     "data": {
      "text/html": [
       "<div>\n",
       "<style scoped>\n",
       "    .dataframe tbody tr th:only-of-type {\n",
       "        vertical-align: middle;\n",
       "    }\n",
       "\n",
       "    .dataframe tbody tr th {\n",
       "        vertical-align: top;\n",
       "    }\n",
       "\n",
       "    .dataframe thead th {\n",
       "        text-align: right;\n",
       "    }\n",
       "</style>\n",
       "<table border=\"1\" class=\"dataframe\">\n",
       "  <thead>\n",
       "    <tr style=\"text-align: right;\">\n",
       "      <th></th>\n",
       "      <th>VAR</th>\n",
       "      <th>QTD_NA</th>\n",
       "      <th>%_NA</th>\n",
       "    </tr>\n",
       "  </thead>\n",
       "  <tbody>\n",
       "    <tr>\n",
       "      <th>11</th>\n",
       "      <td>Q006</td>\n",
       "      <td>1</td>\n",
       "      <td>100.0</td>\n",
       "    </tr>\n",
       "    <tr>\n",
       "      <th>0</th>\n",
       "      <td>NU_INSCRICAO</td>\n",
       "      <td>0</td>\n",
       "      <td>0.0</td>\n",
       "    </tr>\n",
       "    <tr>\n",
       "      <th>1</th>\n",
       "      <td>NU_ANO</td>\n",
       "      <td>0</td>\n",
       "      <td>0.0</td>\n",
       "    </tr>\n",
       "    <tr>\n",
       "      <th>2</th>\n",
       "      <td>NO_MUNICIPIO_RESIDENCIA</td>\n",
       "      <td>0</td>\n",
       "      <td>0.0</td>\n",
       "    </tr>\n",
       "    <tr>\n",
       "      <th>3</th>\n",
       "      <td>CO_ESCOLA</td>\n",
       "      <td>0</td>\n",
       "      <td>0.0</td>\n",
       "    </tr>\n",
       "    <tr>\n",
       "      <th>4</th>\n",
       "      <td>NO_MUNICIPIO_ESC</td>\n",
       "      <td>0</td>\n",
       "      <td>0.0</td>\n",
       "    </tr>\n",
       "    <tr>\n",
       "      <th>5</th>\n",
       "      <td>SG_UF_ESC</td>\n",
       "      <td>0</td>\n",
       "      <td>0.0</td>\n",
       "    </tr>\n",
       "    <tr>\n",
       "      <th>6</th>\n",
       "      <td>NU_NOTA_CN</td>\n",
       "      <td>0</td>\n",
       "      <td>0.0</td>\n",
       "    </tr>\n",
       "    <tr>\n",
       "      <th>7</th>\n",
       "      <td>NU_NOTA_CH</td>\n",
       "      <td>0</td>\n",
       "      <td>0.0</td>\n",
       "    </tr>\n",
       "    <tr>\n",
       "      <th>8</th>\n",
       "      <td>NU_NOTA_LC</td>\n",
       "      <td>0</td>\n",
       "      <td>0.0</td>\n",
       "    </tr>\n",
       "    <tr>\n",
       "      <th>9</th>\n",
       "      <td>NU_NOTA_MT</td>\n",
       "      <td>0</td>\n",
       "      <td>0.0</td>\n",
       "    </tr>\n",
       "    <tr>\n",
       "      <th>10</th>\n",
       "      <td>NU_NOTA_REDACAO</td>\n",
       "      <td>0</td>\n",
       "      <td>0.0</td>\n",
       "    </tr>\n",
       "  </tbody>\n",
       "</table>\n",
       "</div>"
      ],
      "text/plain": [
       "                        VAR  QTD_NA   %_NA\n",
       "11                     Q006       1  100.0\n",
       "0              NU_INSCRICAO       0    0.0\n",
       "1                    NU_ANO       0    0.0\n",
       "2   NO_MUNICIPIO_RESIDENCIA       0    0.0\n",
       "3                 CO_ESCOLA       0    0.0\n",
       "4          NO_MUNICIPIO_ESC       0    0.0\n",
       "5                 SG_UF_ESC       0    0.0\n",
       "6                NU_NOTA_CN       0    0.0\n",
       "7                NU_NOTA_CH       0    0.0\n",
       "8                NU_NOTA_LC       0    0.0\n",
       "9                NU_NOTA_MT       0    0.0\n",
       "10          NU_NOTA_REDACAO       0    0.0"
      ]
     },
     "execution_count": 12,
     "metadata": {},
     "output_type": "execute_result"
    }
   ],
   "source": [
    "df_valores_missing = pd.DataFrame(dados_enem.isnull().sum(axis=0), columns = ['QTD_NA'])\n",
    "df_valores_missing.reset_index(drop=False, inplace=True)\n",
    "df_valores_missing.rename(columns={'index': 'VAR'}, inplace=True)\n",
    "percent_missing = [round((df_valores_missing['QTD_NA'][i] / df_valores_missing['QTD_NA'].sum()) * 100, 2) for i in df_valores_missing.index]\n",
    "df_valores_missing['%_NA'] = percent_missing\n",
    "df_valores_missing.sort_values(by= '%_NA', ascending=False, inplace=True)\n",
    "print('\\n\\nTabela: Quantidade de valores missing presentes no conjunto de dados: \\n')\n",
    "df_valores_missing"
   ]
  },
  {
   "cell_type": "markdown",
   "id": "94822bff",
   "metadata": {},
   "source": [
    "Como ainda há 1 valor missing na coluna \"Q006\" vamos excluí-lo"
   ]
  },
  {
   "cell_type": "code",
   "execution_count": 13,
   "id": "acc8f74e",
   "metadata": {},
   "outputs": [],
   "source": [
    "dados_enem = dados_enem[dados_enem['Q006'].notna()]"
   ]
  },
  {
   "cell_type": "markdown",
   "id": "b42b192a",
   "metadata": {},
   "source": [
    "Como não há mais valores missing no conjunto de dados, estamos prontos para analisar os dados.\n",
    "___"
   ]
  },
  {
   "cell_type": "markdown",
   "id": "2cc907b8",
   "metadata": {},
   "source": [
    "### Pergunta 4 - Qual o número de inscritos por ano? Existe alguma tendência a ser observada nos dados?"
   ]
  },
  {
   "cell_type": "code",
   "execution_count": 14,
   "id": "5d0c6685",
   "metadata": {
    "scrolled": false
   },
   "outputs": [
    {
     "name": "stdout",
     "output_type": "stream",
     "text": [
      "\n",
      " Tabela: Quantidade de inscrições no ENEM por Ano\n"
     ]
    },
    {
     "data": {
      "text/html": [
       "<div>\n",
       "<style scoped>\n",
       "    .dataframe tbody tr th:only-of-type {\n",
       "        vertical-align: middle;\n",
       "    }\n",
       "\n",
       "    .dataframe tbody tr th {\n",
       "        vertical-align: top;\n",
       "    }\n",
       "\n",
       "    .dataframe thead th {\n",
       "        text-align: right;\n",
       "    }\n",
       "</style>\n",
       "<table border=\"1\" class=\"dataframe\">\n",
       "  <thead>\n",
       "    <tr style=\"text-align: right;\">\n",
       "      <th></th>\n",
       "      <th>ANO</th>\n",
       "      <th>QUANTIDADE_INSCRICOES</th>\n",
       "    </tr>\n",
       "  </thead>\n",
       "  <tbody>\n",
       "    <tr>\n",
       "      <th>0</th>\n",
       "      <td>2017</td>\n",
       "      <td>1785913</td>\n",
       "    </tr>\n",
       "    <tr>\n",
       "      <th>1</th>\n",
       "      <td>2018</td>\n",
       "      <td>1448821</td>\n",
       "    </tr>\n",
       "    <tr>\n",
       "      <th>2</th>\n",
       "      <td>2019</td>\n",
       "      <td>1147412</td>\n",
       "    </tr>\n",
       "  </tbody>\n",
       "</table>\n",
       "</div>"
      ],
      "text/plain": [
       "    ANO  QUANTIDADE_INSCRICOES\n",
       "0  2017                1785913\n",
       "1  2018                1448821\n",
       "2  2019                1147412"
      ]
     },
     "metadata": {},
     "output_type": "display_data"
    },
    {
     "name": "stdout",
     "output_type": "stream",
     "text": [
      "None\n"
     ]
    },
    {
     "data": {
      "image/png": "[encoded data removed]",
      "text/plain": [
       "<Figure size 864x432 with 1 Axes>"
      ]
     },
     "metadata": {
      "needs_background": "light"
     },
     "output_type": "display_data"
    }
   ],
   "source": [
    "# Tabela\n",
    "\n",
    "num_insc_ano = dados_enem.groupby(['NU_ANO'], as_index = False).count()[['NU_ANO', 'NU_INSCRICAO']]\n",
    "num_insc_ano = num_insc_ano.rename(columns={'NU_ANO':'ANO', 'NU_INSCRICAO':'QUANTIDADE_INSCRICOES'})\n",
    "print('\\n Tabela: Quantidade de inscrições no ENEM por Ano')\n",
    "print(f'{display(num_insc_ano)}')\n",
    "\n",
    "# Gráfico\n",
    "\n",
    "fig = plt.figure(figsize=(12,6))\n",
    "y=[round(num_insc_ano['QUANTIDADE_INSCRICOES'][i]/1000, 1) for i in num_insc_ano.index]\n",
    "ax = sns.barplot(x=num_insc_ano['ANO'], y=y, palette='cool_r')\n",
    "ax.set_ylabel('\\n Quantidade de Inscrições (em milhares) \\n', fontdict={'fontsize':15})\n",
    "ax.set_xlabel('\\n Ano \\n', fontdict={'fontsize':15})\n",
    "ax.set_title('\\n Quantidade de Inscrições no ENEM por Ano \\n\\n', fontdict={'fontsize':16})\n",
    "ax.set_xticklabels(labels=num_insc_ano['ANO'], fontdict={'fontsize':14})\n",
    "ax.set_ylim(0, 2000)\n",
    "ax.spines['top'].set_visible(False)\n",
    "ax.spines['right'].set_visible(False)\n",
    "\n",
    "for i in range(len(y)):\n",
    "    ax.text(i, y[i]/2, str(round(y[i], 2)) + 'K',\n",
    "           fontdict={'color':'white', 'fontsize':15, 'weight': 'bold'},\n",
    "           horizontalalignment='center')\n"
   ]
  },
  {
   "cell_type": "code",
   "execution_count": 15,
   "id": "d36c49ce",
   "metadata": {},
   "outputs": [],
   "source": [
    "fig.savefig('images/num_insc_ano.PNG', format='PNG', dpi=400)"
   ]
  },
  {
   "cell_type": "markdown",
   "id": "8b1eaf3d",
   "metadata": {},
   "source": [
    "Tendo como referência apenas os dados de 2017, 2018 e 2019, é possível notar\n",
    "que o número de inscritos está diminuindo a cada ano que se passa.\n",
    "___"
   ]
  },
  {
   "cell_type": "markdown",
   "id": "fb8a19b4",
   "metadata": {},
   "source": [
    "### Pergunta 5 - Quais as notas médias por ano de realização da prova?"
   ]
  },
  {
   "cell_type": "markdown",
   "id": "4efda7da",
   "metadata": {},
   "source": [
    "Remodelagem de parte do conjunto de dados para possibilidar a análise de forma gráfica"
   ]
  },
  {
   "cell_type": "code",
   "execution_count": 16,
   "id": "4f00c3f6",
   "metadata": {},
   "outputs": [],
   "source": [
    "dados_enem = pd.melt(dados_enem, \n",
    "                       id_vars=[\"NU_INSCRICAO\", \"NU_ANO\",\n",
    "                                \"NO_MUNICIPIO_RESIDENCIA\", \"NO_MUNICIPIO_ESC\",\n",
    "                                \"CO_ESCOLA\", \"SG_UF_ESC\",\"Q006\"], \n",
    "                       var_name= [\"AREA_CON\"], \n",
    "                       value_name=\"NOTAS\")"
   ]
  },
  {
   "cell_type": "markdown",
   "id": "87b49656",
   "metadata": {},
   "source": [
    "Podemos, agora, ver a nova estrutura da tabela. Precisaremos fazer adequações na coluna \"AREA_CON\""
   ]
  },
  {
   "cell_type": "code",
   "execution_count": 17,
   "id": "06a801f3",
   "metadata": {
    "scrolled": false
   },
   "outputs": [
    {
     "data": {
      "text/html": [
       "<div>\n",
       "<style scoped>\n",
       "    .dataframe tbody tr th:only-of-type {\n",
       "        vertical-align: middle;\n",
       "    }\n",
       "\n",
       "    .dataframe tbody tr th {\n",
       "        vertical-align: top;\n",
       "    }\n",
       "\n",
       "    .dataframe thead th {\n",
       "        text-align: right;\n",
       "    }\n",
       "</style>\n",
       "<table border=\"1\" class=\"dataframe\">\n",
       "  <thead>\n",
       "    <tr style=\"text-align: right;\">\n",
       "      <th></th>\n",
       "      <th>NU_INSCRICAO</th>\n",
       "      <th>NU_ANO</th>\n",
       "      <th>NO_MUNICIPIO_RESIDENCIA</th>\n",
       "      <th>NO_MUNICIPIO_ESC</th>\n",
       "      <th>CO_ESCOLA</th>\n",
       "      <th>SG_UF_ESC</th>\n",
       "      <th>Q006</th>\n",
       "      <th>AREA_CON</th>\n",
       "      <th>NOTAS</th>\n",
       "    </tr>\n",
       "  </thead>\n",
       "  <tbody>\n",
       "    <tr>\n",
       "      <th>0</th>\n",
       "      <td>170001663652</td>\n",
       "      <td>2017</td>\n",
       "      <td>Itacoatiara</td>\n",
       "      <td>Itacoatiara</td>\n",
       "      <td>13079220.0</td>\n",
       "      <td>AM</td>\n",
       "      <td>P</td>\n",
       "      <td>NU_NOTA_CN</td>\n",
       "      <td>540.7</td>\n",
       "    </tr>\n",
       "    <tr>\n",
       "      <th>1</th>\n",
       "      <td>170001664222</td>\n",
       "      <td>2017</td>\n",
       "      <td>Salvador</td>\n",
       "      <td>Salvador</td>\n",
       "      <td>29422418.0</td>\n",
       "      <td>BA</td>\n",
       "      <td>Q</td>\n",
       "      <td>NU_NOTA_CN</td>\n",
       "      <td>396.4</td>\n",
       "    </tr>\n",
       "    <tr>\n",
       "      <th>2</th>\n",
       "      <td>170001665543</td>\n",
       "      <td>2017</td>\n",
       "      <td>São Paulo</td>\n",
       "      <td>São Paulo</td>\n",
       "      <td>35001259.0</td>\n",
       "      <td>SP</td>\n",
       "      <td>F</td>\n",
       "      <td>NU_NOTA_CN</td>\n",
       "      <td>452.8</td>\n",
       "    </tr>\n",
       "    <tr>\n",
       "      <th>3</th>\n",
       "      <td>170001663747</td>\n",
       "      <td>2017</td>\n",
       "      <td>Santa Bárbara d'Oeste</td>\n",
       "      <td>Santa Bárbara d'Oeste</td>\n",
       "      <td>35925950.0</td>\n",
       "      <td>SP</td>\n",
       "      <td>D</td>\n",
       "      <td>NU_NOTA_CN</td>\n",
       "      <td>496.0</td>\n",
       "    </tr>\n",
       "    <tr>\n",
       "      <th>4</th>\n",
       "      <td>170003333557</td>\n",
       "      <td>2017</td>\n",
       "      <td>Lapão</td>\n",
       "      <td>Irecê</td>\n",
       "      <td>29428408.0</td>\n",
       "      <td>BA</td>\n",
       "      <td>B</td>\n",
       "      <td>NU_NOTA_CN</td>\n",
       "      <td>591.1</td>\n",
       "    </tr>\n",
       "  </tbody>\n",
       "</table>\n",
       "</div>"
      ],
      "text/plain": [
       "   NU_INSCRICAO  NU_ANO NO_MUNICIPIO_RESIDENCIA       NO_MUNICIPIO_ESC  \\\n",
       "0  170001663652    2017             Itacoatiara            Itacoatiara   \n",
       "1  170001664222    2017                Salvador               Salvador   \n",
       "2  170001665543    2017               São Paulo              São Paulo   \n",
       "3  170001663747    2017   Santa Bárbara d'Oeste  Santa Bárbara d'Oeste   \n",
       "4  170003333557    2017                   Lapão                  Irecê   \n",
       "\n",
       "    CO_ESCOLA SG_UF_ESC Q006    AREA_CON  NOTAS  \n",
       "0  13079220.0        AM    P  NU_NOTA_CN  540.7  \n",
       "1  29422418.0        BA    Q  NU_NOTA_CN  396.4  \n",
       "2  35001259.0        SP    F  NU_NOTA_CN  452.8  \n",
       "3  35925950.0        SP    D  NU_NOTA_CN  496.0  \n",
       "4  29428408.0        BA    B  NU_NOTA_CN  591.1  "
      ]
     },
     "execution_count": 17,
     "metadata": {},
     "output_type": "execute_result"
    }
   ],
   "source": [
    "dados_enem.head()"
   ]
  },
  {
   "cell_type": "markdown",
   "id": "40e1383d",
   "metadata": {},
   "source": [
    "Adequando o nome das áreas do conhecimento de cada tipo de prova."
   ]
  },
  {
   "cell_type": "code",
   "execution_count": 18,
   "id": "5eae9e93",
   "metadata": {},
   "outputs": [],
   "source": [
    "dados_enem['AREA_CON'].replace(to_replace='NU_NOTA_CN', value='Ciências da Natureza', inplace=True)\n",
    "dados_enem['AREA_CON'].replace(to_replace='NU_NOTA_CH', value='Ciências Humanas', inplace=True)\n",
    "dados_enem['AREA_CON'].replace(to_replace='NU_NOTA_LC', value='Linguagens e Códigos', inplace=True)\n",
    "dados_enem['AREA_CON'].replace(to_replace='NU_NOTA_MT', value='Matemática', inplace=True)\n",
    "dados_enem['AREA_CON'].replace(to_replace='NU_NOTA_REDACAO', value='Redação', inplace=True)"
   ]
  },
  {
   "cell_type": "markdown",
   "id": "b486deb8",
   "metadata": {},
   "source": [
    "Gerando um dataframe temporário para a criação do gráfico de média de notas por ano e por área de conhecimento"
   ]
  },
  {
   "cell_type": "code",
   "execution_count": 19,
   "id": "9e526637",
   "metadata": {
    "scrolled": false
   },
   "outputs": [
    {
     "data": {
      "text/html": [
       "<div>\n",
       "<style scoped>\n",
       "    .dataframe tbody tr th:only-of-type {\n",
       "        vertical-align: middle;\n",
       "    }\n",
       "\n",
       "    .dataframe tbody tr th {\n",
       "        vertical-align: top;\n",
       "    }\n",
       "\n",
       "    .dataframe thead th {\n",
       "        text-align: right;\n",
       "    }\n",
       "</style>\n",
       "<table border=\"1\" class=\"dataframe\">\n",
       "  <thead>\n",
       "    <tr style=\"text-align: right;\">\n",
       "      <th></th>\n",
       "      <th>NU_ANO</th>\n",
       "      <th>AREA_CON</th>\n",
       "      <th>NOTAS</th>\n",
       "    </tr>\n",
       "  </thead>\n",
       "  <tbody>\n",
       "    <tr>\n",
       "      <th>0</th>\n",
       "      <td>2017</td>\n",
       "      <td>Ciências Humanas</td>\n",
       "      <td>419.253235</td>\n",
       "    </tr>\n",
       "    <tr>\n",
       "      <th>1</th>\n",
       "      <td>2017</td>\n",
       "      <td>Ciências da Natureza</td>\n",
       "      <td>393.408171</td>\n",
       "    </tr>\n",
       "    <tr>\n",
       "      <th>2</th>\n",
       "      <td>2017</td>\n",
       "      <td>Linguagens e Códigos</td>\n",
       "      <td>411.198615</td>\n",
       "    </tr>\n",
       "    <tr>\n",
       "      <th>3</th>\n",
       "      <td>2017</td>\n",
       "      <td>Matemática</td>\n",
       "      <td>402.747386</td>\n",
       "    </tr>\n",
       "    <tr>\n",
       "      <th>4</th>\n",
       "      <td>2017</td>\n",
       "      <td>Redação</td>\n",
       "      <td>429.772872</td>\n",
       "    </tr>\n",
       "    <tr>\n",
       "      <th>5</th>\n",
       "      <td>2018</td>\n",
       "      <td>Ciências Humanas</td>\n",
       "      <td>463.021001</td>\n",
       "    </tr>\n",
       "    <tr>\n",
       "      <th>6</th>\n",
       "      <td>2018</td>\n",
       "      <td>Ciências da Natureza</td>\n",
       "      <td>385.486311</td>\n",
       "    </tr>\n",
       "    <tr>\n",
       "      <th>7</th>\n",
       "      <td>2018</td>\n",
       "      <td>Linguagens e Códigos</td>\n",
       "      <td>429.858777</td>\n",
       "    </tr>\n",
       "    <tr>\n",
       "      <th>8</th>\n",
       "      <td>2018</td>\n",
       "      <td>Matemática</td>\n",
       "      <td>419.713526</td>\n",
       "    </tr>\n",
       "    <tr>\n",
       "      <th>9</th>\n",
       "      <td>2018</td>\n",
       "      <td>Redação</td>\n",
       "      <td>421.093744</td>\n",
       "    </tr>\n",
       "    <tr>\n",
       "      <th>10</th>\n",
       "      <td>2019</td>\n",
       "      <td>Ciências Humanas</td>\n",
       "      <td>438.641371</td>\n",
       "    </tr>\n",
       "    <tr>\n",
       "      <th>11</th>\n",
       "      <td>2019</td>\n",
       "      <td>Ciências da Natureza</td>\n",
       "      <td>394.431477</td>\n",
       "    </tr>\n",
       "    <tr>\n",
       "      <th>12</th>\n",
       "      <td>2019</td>\n",
       "      <td>Linguagens e Códigos</td>\n",
       "      <td>450.515330</td>\n",
       "    </tr>\n",
       "    <tr>\n",
       "      <th>13</th>\n",
       "      <td>2019</td>\n",
       "      <td>Matemática</td>\n",
       "      <td>436.444698</td>\n",
       "    </tr>\n",
       "    <tr>\n",
       "      <th>14</th>\n",
       "      <td>2019</td>\n",
       "      <td>Redação</td>\n",
       "      <td>500.347617</td>\n",
       "    </tr>\n",
       "  </tbody>\n",
       "</table>\n",
       "</div>"
      ],
      "text/plain": [
       "    NU_ANO              AREA_CON       NOTAS\n",
       "0     2017      Ciências Humanas  419.253235\n",
       "1     2017  Ciências da Natureza  393.408171\n",
       "2     2017  Linguagens e Códigos  411.198615\n",
       "3     2017            Matemática  402.747386\n",
       "4     2017               Redação  429.772872\n",
       "5     2018      Ciências Humanas  463.021001\n",
       "6     2018  Ciências da Natureza  385.486311\n",
       "7     2018  Linguagens e Códigos  429.858777\n",
       "8     2018            Matemática  419.713526\n",
       "9     2018               Redação  421.093744\n",
       "10    2019      Ciências Humanas  438.641371\n",
       "11    2019  Ciências da Natureza  394.431477\n",
       "12    2019  Linguagens e Códigos  450.515330\n",
       "13    2019            Matemática  436.444698\n",
       "14    2019               Redação  500.347617"
      ]
     },
     "execution_count": 19,
     "metadata": {},
     "output_type": "execute_result"
    }
   ],
   "source": [
    "df_temp = dados_enem.groupby(['NU_ANO','AREA_CON'], as_index=False).mean()[['NU_ANO','AREA_CON', 'NOTAS']]\n",
    "df_temp"
   ]
  },
  {
   "cell_type": "markdown",
   "id": "bcdfe7d3",
   "metadata": {},
   "source": [
    "Plotando o gráfico com as notas médias por ano e por área de conhecimento"
   ]
  },
  {
   "cell_type": "code",
   "execution_count": 20,
   "id": "ffa692e1",
   "metadata": {
    "scrolled": false
   },
   "outputs": [
    {
     "data": {
      "image/png": "[encoded data removed]",
      "text/plain": [
       "<Figure size 1008x432 with 1 Axes>"
      ]
     },
     "metadata": {
      "needs_background": "light"
     },
     "output_type": "display_data"
    }
   ],
   "source": [
    "fig = plt.figure(figsize=(14,6))\n",
    "ax1 = sns.barplot(data=df_temp, x='NU_ANO', y= 'NOTAS', hue='AREA_CON', orient='v')\n",
    "ax1.set_ylabel('\\n Média De Notas \\n', fontdict={'fontsize':15})\n",
    "ax1.set_xlabel('\\n Ano \\n', fontdict={'fontsize':15})\n",
    "ax1.set_title('\\n Média Das Notas do ENEM Por Ano e Por Área De Conhecimento \\n\\n', fontdict={'fontsize':16})\n",
    "ax1.set_xticklabels(labels=['2017', '2018', '2019'], fontdict={'fontsize':14})\n",
    "ax1.set_yticklabels(labels=range(0, 10001,200 ), fontdict={'fontsize':14})\n",
    "ax1.set_ylim(0, 1000)\n",
    "ax1.spines['top'].set_visible(False)\n",
    "ax1.spines['right'].set_visible(False)  \n",
    "    \n",
    "for p in ax1.patches:\n",
    "    ax1.annotate(format(p.get_height(), '.0f'), \n",
    "               (p.get_x() + p.get_width() / 2., p.get_height()), \n",
    "               ha = 'center', va = 'center', \n",
    "               size=15,\n",
    "               xytext = (0, 7), \n",
    "               textcoords = 'offset points')\n",
    "    \n",
    "    p.set_width(0.156)\n",
    "    "
   ]
  },
  {
   "cell_type": "code",
   "execution_count": 21,
   "id": "c35969e9",
   "metadata": {},
   "outputs": [],
   "source": [
    "fig.savefig('images/media_notas_ano.PNG', format='PNG', dpi=400)"
   ]
  },
  {
   "cell_type": "markdown",
   "id": "a8eeda60",
   "metadata": {},
   "source": [
    "#### A nota média final dos candidados"
   ]
  },
  {
   "cell_type": "code",
   "execution_count": 22,
   "id": "bed88609",
   "metadata": {
    "scrolled": false
   },
   "outputs": [
    {
     "name": "stdout",
     "output_type": "stream",
     "text": [
      "Tabela: Média Total de notas Por Ano\n"
     ]
    },
    {
     "data": {
      "text/html": [
       "<div>\n",
       "<style scoped>\n",
       "    .dataframe tbody tr th:only-of-type {\n",
       "        vertical-align: middle;\n",
       "    }\n",
       "\n",
       "    .dataframe tbody tr th {\n",
       "        vertical-align: top;\n",
       "    }\n",
       "\n",
       "    .dataframe thead th {\n",
       "        text-align: right;\n",
       "    }\n",
       "</style>\n",
       "<table border=\"1\" class=\"dataframe\">\n",
       "  <thead>\n",
       "    <tr style=\"text-align: right;\">\n",
       "      <th></th>\n",
       "      <th>NU_ANO</th>\n",
       "      <th>NOTAS</th>\n",
       "    </tr>\n",
       "  </thead>\n",
       "  <tbody>\n",
       "    <tr>\n",
       "      <th>0</th>\n",
       "      <td>2017</td>\n",
       "      <td>411</td>\n",
       "    </tr>\n",
       "    <tr>\n",
       "      <th>1</th>\n",
       "      <td>2018</td>\n",
       "      <td>424</td>\n",
       "    </tr>\n",
       "    <tr>\n",
       "      <th>2</th>\n",
       "      <td>2019</td>\n",
       "      <td>444</td>\n",
       "    </tr>\n",
       "  </tbody>\n",
       "</table>\n",
       "</div>"
      ],
      "text/plain": [
       "   NU_ANO  NOTAS\n",
       "0    2017    411\n",
       "1    2018    424\n",
       "2    2019    444"
      ]
     },
     "execution_count": 22,
     "metadata": {},
     "output_type": "execute_result"
    }
   ],
   "source": [
    "notas_por_ano = dados_enem.groupby(['NU_ANO'], as_index=False).mean()[['NU_ANO', 'NOTAS']]\n",
    "notas_por_ano['NOTAS'] = notas_por_ano['NOTAS'].apply(round)\n",
    "print('Tabela: Média Total de notas Por Ano')\n",
    "notas_por_ano"
   ]
  },
  {
   "cell_type": "markdown",
   "id": "bc3183c3",
   "metadata": {},
   "source": [
    "Salvando a os dados remodeldos para a próxima análise."
   ]
  },
  {
   "cell_type": "code",
   "execution_count": 23,
   "id": "d77496f2",
   "metadata": {},
   "outputs": [],
   "source": [
    "dados_enem.to_csv('DADOS/dados_enem_2017_ate_2019.csv',sep=';', encoding='ISO-8859-1')"
   ]
  },
  {
   "cell_type": "code",
   "execution_count": 24,
   "id": "afe9de7a",
   "metadata": {},
   "outputs": [],
   "source": [
    "del(dados_enem)"
   ]
  },
  {
   "cell_type": "markdown",
   "id": "105ba13f",
   "metadata": {},
   "source": [
    "###### Esta análise continua no arquivo \"analise_enem_parte_3\""
   ]
  }
 ],
 "metadata": {
  "kernelspec": {
   "display_name": "Python 3",
   "language": "python",
   "name": "python3"
  },
  "language_info": {
   "codemirror_mode": {
    "name": "ipython",
    "version": 3
   },
   "file_extension": ".py",
   "mimetype": "text/x-python",
   "name": "python",
   "nbconvert_exporter": "python",
   "pygments_lexer": "ipython3",
   "version": "3.8.8"
  }
 },
 "nbformat": 4,
 "nbformat_minor": 5
}
