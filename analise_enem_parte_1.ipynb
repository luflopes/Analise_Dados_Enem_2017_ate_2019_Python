{
 "cells": [
  {
   "cell_type": "markdown",
   "id": "d208a6a8",
   "metadata": {},
   "source": [
    "# Análise de Dados do ENEM Edições 2017, 2018 e 2019\n",
    "### Parte 1"
   ]
  },
  {
   "cell_type": "markdown",
   "id": "e99e1aa4",
   "metadata": {},
   "source": [
    "**Feito por Lucas Lopes - 02/03/2022**"
   ]
  },
  {
   "cell_type": "markdown",
   "id": "96940172",
   "metadata": {},
   "source": [
    "---"
   ]
  },
  {
   "cell_type": "markdown",
   "id": "c51dc397",
   "metadata": {},
   "source": [
    "<img src=\"https://imagens.ebc.com.br/6BdfhgUhqiILyXdv34gQTB6_zts=/1100x370/smart/https://memoria.ebc.com.br/sites/_portalebc2014/files/atoms_image/logo_enem.jpg\" alt=\"Drawing\" style=\"width: 80%;\"/>"
   ]
  },
  {
   "cell_type": "markdown",
   "id": "3f45d362",
   "metadata": {},
   "source": [
    "---"
   ]
  },
  {
   "cell_type": "markdown",
   "id": "8f607c2e",
   "metadata": {},
   "source": [
    "## Descrição do Problema"
   ]
  },
  {
   "cell_type": "markdown",
   "id": "d9248781",
   "metadata": {},
   "source": [
    "O Exame Nacional do Ensino Médio (Enem) foi instituído em 1998, com o objetivo de avaliar o desempenho escolar dos estudantes ao término da educação básica. Em 2009, o exame aperfeiçoou sua metodologia e passou a ser utilizado como mecanismo de acesso à educação superior.\n",
    "Esta análise tem por objetivo fornecer insigths sobre os os microdados do enem bem como sobre os participantes e os estados brasileiros.\n",
    "___"
   ]
  },
  {
   "cell_type": "markdown",
   "id": "79d24009",
   "metadata": {},
   "source": [
    "### Pergunta 1 - Quais dados (arquivos) utilizados, onde e como foram obtidos?\n",
    "---"
   ]
  },
  {
   "cell_type": "markdown",
   "id": "117f35f0",
   "metadata": {},
   "source": [
    "### Dados Utilizados na Análise  <br>\n",
    "\n",
    "Os dados utilizados nesta análise ocupam mais de 13 GB de espaço em memória, portanto não é possível disponibilizá-los pelo GitHub.<br>\n",
    "Vocé precisará acessar os links abaixo para baixar os arquivos.<br>\n",
    "\n",
    "<div style=\"float:left\">\n",
    "<div style=\"float:left;width:400px;height:400px;padding-left:20px;padding-right:50px;border-right:solid #C0C0C0 1px\"><a src='https://www.gov.br/inep/pt-br/acesso-a-informacao/dados-abertos/microdados/censo-escolar'>Microdados do ENEM</a> edições 2017, 2018 e 2019 e dados do Censo Escolar disponibilizados pelo INEP.<br><br><img src='https://upload.wikimedia.org/wikipedia/commons/8/83/INEP_logo_01.png'>\n",
    "</div><br><br>    \n",
    "<div style=\"float:right;width:400px;height:400px;padding-left:50px;\">Dados de coordenadas das estruturas geográficas do Brasil disponibilizadas na plataforma <a src='https://www.kaggle.com/thiagobodruk/brazil-geojson/version/1'> GeoJS<a/>.<br><img src='https://camo.githubusercontent.com/eb82845351f8d87d73a714772840aaae40e3c881fccb75292d78b9585904dfb5/68747470733a2f2f6f70656e67656f736369656e63652e6769746875622e696f2f67656f6a732f696d616765732f6c6f676f5f3235362e706e67' style=\"width:300px;height:150px;padding-top:10px;\">\n",
    "</div>\n",
    "</div>\n",
    "   \n",
    "  ### Tecnologias Utilizadas <br>\n",
    "  ___\n",
    "  * Linguagem Python versão 3.9.10 \n",
    "\n",
    "  * SQL (querys simples com joins entre tabelas)"
   ]
  },
  {
   "cell_type": "markdown",
   "id": "895f90a2",
   "metadata": {},
   "source": [
    "---"
   ]
  },
  {
   "cell_type": "markdown",
   "id": "d160a1a5",
   "metadata": {},
   "source": [
    "#### Importando as bibliotecas para análise de dados"
   ]
  },
  {
   "cell_type": "code",
   "execution_count": 4,
   "id": "bdffb7b6",
   "metadata": {},
   "outputs": [],
   "source": [
    "import pandas as pd\n",
    "import matplotlib.pyplot as plt\n",
    "import seaborn as sns\n",
    "import warnings\n",
    "import os\n",
    "warnings.filterwarnings('ignore')"
   ]
  },
  {
   "cell_type": "markdown",
   "id": "a8fc567c",
   "metadata": {},
   "source": [
    "Os arquivos com os microdados do ENEM, para cada ano, possuem cerca de 3 a 4 GB de tamanho, o que torna sua manipulação complexa\n",
    "em termos de tempo de processamento. Para contornar esta limitação, foram carregadas somente as \n",
    "colunas com as quais iremos trabalhar, reduzindo, assim, o tempo de processamento.\n",
    "Os dados a serem utilizados foram obtidos do [portal do Inep](https://www.gov.br/inep/pt-br/acesso-a-informacao/dados-abertos/microdados/enem)"
   ]
  },
  {
   "cell_type": "code",
   "execution_count": 5,
   "id": "be0e90e0",
   "metadata": {},
   "outputs": [],
   "source": [
    "# Importando os dados da edição ENEM 2017\n",
    "\n",
    "dados_enem_2017 = pd.read_csv('DADOS/MICRODADOS_ENEM_2017.csv', sep=';', encoding='ISO-8859-1',\n",
    "                         usecols = ['NU_INSCRICAO', 'NU_ANO','NO_MUNICIPIO_RESIDENCIA',\n",
    "                                    'NO_MUNICIPIO_NASCIMENTO', 'SG_UF_NASCIMENTO',\n",
    "                                    'NO_MUNICIPIO_ESC', 'CO_ESCOLA','SG_UF_ESC',\n",
    "                                    'NU_NOTA_CN', 'NU_NOTA_CH', 'NU_NOTA_LC',\n",
    "                                    'NU_NOTA_MT','NU_NOTA_REDACAO', 'Q006'])\n",
    "\n",
    "# Importando os dados da edição ENEM 2018\n",
    "\n",
    "dados_enem_2018 = pd.read_csv('DADOS/MICRODADOS_ENEM_2018.csv', sep=';', encoding='ISO-8859-1',\n",
    "                         usecols = ['NU_INSCRICAO', 'NU_ANO','NO_MUNICIPIO_RESIDENCIA',\n",
    "                                    'NO_MUNICIPIO_NASCIMENTO', 'SG_UF_NASCIMENTO',\n",
    "                                    'NO_MUNICIPIO_ESC', 'CO_ESCOLA','SG_UF_ESC',\n",
    "                                    'NU_NOTA_CN', 'NU_NOTA_CH', 'NU_NOTA_LC',\n",
    "                                    'NU_NOTA_MT','NU_NOTA_REDACAO', 'Q006'])\n",
    "\n",
    "# Importando os dados da edição ENEM 2019\n",
    "\n",
    "dados_enem_2019 = pd.read_csv('DADOS/MICRODADOS_ENEM_2019.csv', sep=';', encoding='ISO-8859-1',\n",
    "                         usecols = ['NU_INSCRICAO', 'NU_ANO','NO_MUNICIPIO_RESIDENCIA',\n",
    "                                    'NO_MUNICIPIO_NASCIMENTO', 'SG_UF_NASCIMENTO',\n",
    "                                    'NO_MUNICIPIO_ESC', 'CO_ESCOLA','SG_UF_ESC',\n",
    "                                    'NU_NOTA_CN', 'NU_NOTA_CH', 'NU_NOTA_LC',\n",
    "                                    'NU_NOTA_MT','NU_NOTA_REDACAO', 'Q006'])\n"
   ]
  },
  {
   "cell_type": "markdown",
   "id": "45373f9c",
   "metadata": {},
   "source": [
    "Concatenando as tabelas das edições 2017, 2018 e 2019 em apenas uma tabela."
   ]
  },
  {
   "cell_type": "code",
   "execution_count": 6,
   "id": "34271a31",
   "metadata": {},
   "outputs": [],
   "source": [
    "frame = [dados_enem_2017, dados_enem_2018, dados_enem_2019]\n",
    "dados_enem = pd.concat(frame, ignore_index = True)"
   ]
  },
  {
   "cell_type": "markdown",
   "id": "bc3183c3",
   "metadata": {},
   "source": [
    "Salvando a tabela gerada pela união dos dados de 2017, 2018 e 2019 em formato csv."
   ]
  },
  {
   "cell_type": "code",
   "execution_count": 7,
   "id": "d77496f2",
   "metadata": {},
   "outputs": [],
   "source": [
    "dados_enem.to_csv('DADOS/dados_enem_2017_ate_2019.csv',sep=';', encoding='ISO-8859-1')"
   ]
  },
  {
   "cell_type": "markdown",
   "id": "28a175db",
   "metadata": {},
   "source": [
    "Limpando as variáveis utilizadas para liberar a carga da memória RAM"
   ]
  },
  {
   "cell_type": "code",
   "execution_count": 8,
   "id": "afc75cbd",
   "metadata": {},
   "outputs": [],
   "source": [
    "del(dados_enem, dados_enem_2017, dados_enem_2018, dados_enem_2019)"
   ]
  },
  {
   "cell_type": "markdown",
   "id": "4d4f61d1",
   "metadata": {},
   "source": [
    "Importando o arquivo gerado com as edições do ENEM de 2017 até 2019."
   ]
  },
  {
   "cell_type": "code",
   "execution_count": 9,
   "id": "17ecca69",
   "metadata": {},
   "outputs": [],
   "source": [
    "dados_enem = pd.read_csv('DADOS/dados_enem_2017_ate_2019.csv',sep=';', encoding='ISO-8859-1')"
   ]
  },
  {
   "cell_type": "markdown",
   "id": "882b0806",
   "metadata": {},
   "source": [
    "Verificando a quantidade de espaço que o conjunto de dados ocupa na memória RAM e os tipos dos dados"
   ]
  },
  {
   "cell_type": "code",
   "execution_count": 10,
   "id": "2194ceac",
   "metadata": {
    "scrolled": false
   },
   "outputs": [
    {
     "name": "stdout",
     "output_type": "stream",
     "text": [
      "<class 'pandas.core.frame.DataFrame'>\n",
      "RangeIndex: 17340358 entries, 0 to 17340357\n",
      "Data columns (total 15 columns):\n",
      " #   Column                   Dtype  \n",
      "---  ------                   -----  \n",
      " 0   Unnamed: 0               int64  \n",
      " 1   NU_INSCRICAO             int64  \n",
      " 2   NU_ANO                   int64  \n",
      " 3   NO_MUNICIPIO_RESIDENCIA  object \n",
      " 4   NO_MUNICIPIO_NASCIMENTO  object \n",
      " 5   SG_UF_NASCIMENTO         object \n",
      " 6   CO_ESCOLA                float64\n",
      " 7   NO_MUNICIPIO_ESC         object \n",
      " 8   SG_UF_ESC                object \n",
      " 9   NU_NOTA_CN               float64\n",
      " 10  NU_NOTA_CH               float64\n",
      " 11  NU_NOTA_LC               float64\n",
      " 12  NU_NOTA_MT               float64\n",
      " 13  NU_NOTA_REDACAO          float64\n",
      " 14  Q006                     object \n",
      "dtypes: float64(6), int64(3), object(6)\n",
      "memory usage: 6.8 GB\n"
     ]
    }
   ],
   "source": [
    "dados_enem.info(memory_usage='deep')"
   ]
  },
  {
   "cell_type": "markdown",
   "id": "d5b1c742",
   "metadata": {},
   "source": [
    "### Pergunta 2 - Qual o tipo de tratamento será aplicado à base de dados?\n",
    "As técnicas que serão utilizadas no decorrer da análise incluem:\n",
    "\n",
    "* Remodelagem de dados;\n",
    "* Tratamento de valores missing;\n",
    "* Análise estatística descritiva;\n",
    "* Visualição de dados\n",
    "* Storytelling"
   ]
  },
  {
   "cell_type": "markdown",
   "id": "9896aa2f",
   "metadata": {},
   "source": [
    "<h3>Pergunta 3 - Qual a proporção de missing nas bases e o que será feito com esses casos? Quais os mais relevantes?</h3>"
   ]
  },
  {
   "cell_type": "markdown",
   "id": "2c1ef89f",
   "metadata": {},
   "source": [
    "Verificando o tamanho do conjunto de dados gerado.<br>\n",
    "A base de dados gerada possui 17340358 de registros e 15 variáveis (colunas)"
   ]
  },
  {
   "cell_type": "code",
   "execution_count": 11,
   "id": "4fef3611",
   "metadata": {},
   "outputs": [
    {
     "data": {
      "text/plain": [
       "(17340358, 15)"
      ]
     },
     "execution_count": 11,
     "metadata": {},
     "output_type": "execute_result"
    }
   ],
   "source": [
    "dados_enem.shape"
   ]
  },
  {
   "cell_type": "code",
   "execution_count": 12,
   "id": "714ee7d9",
   "metadata": {
    "scrolled": false
   },
   "outputs": [
    {
     "data": {
      "text/html": [
       "<div>\n",
       "<style scoped>\n",
       "    .dataframe tbody tr th:only-of-type {\n",
       "        vertical-align: middle;\n",
       "    }\n",
       "\n",
       "    .dataframe tbody tr th {\n",
       "        vertical-align: top;\n",
       "    }\n",
       "\n",
       "    .dataframe thead th {\n",
       "        text-align: right;\n",
       "    }\n",
       "</style>\n",
       "<table border=\"1\" class=\"dataframe\">\n",
       "  <thead>\n",
       "    <tr style=\"text-align: right;\">\n",
       "      <th></th>\n",
       "      <th>Unnamed: 0</th>\n",
       "      <th>NU_INSCRICAO</th>\n",
       "      <th>NU_ANO</th>\n",
       "      <th>NO_MUNICIPIO_RESIDENCIA</th>\n",
       "      <th>NO_MUNICIPIO_NASCIMENTO</th>\n",
       "      <th>SG_UF_NASCIMENTO</th>\n",
       "      <th>CO_ESCOLA</th>\n",
       "      <th>NO_MUNICIPIO_ESC</th>\n",
       "      <th>SG_UF_ESC</th>\n",
       "      <th>NU_NOTA_CN</th>\n",
       "      <th>NU_NOTA_CH</th>\n",
       "      <th>NU_NOTA_LC</th>\n",
       "      <th>NU_NOTA_MT</th>\n",
       "      <th>NU_NOTA_REDACAO</th>\n",
       "      <th>Q006</th>\n",
       "    </tr>\n",
       "  </thead>\n",
       "  <tbody>\n",
       "    <tr>\n",
       "      <th>0</th>\n",
       "      <td>0</td>\n",
       "      <td>170003336736</td>\n",
       "      <td>2017</td>\n",
       "      <td>Araraquara</td>\n",
       "      <td>Araraquara</td>\n",
       "      <td>SP</td>\n",
       "      <td>NaN</td>\n",
       "      <td>NaN</td>\n",
       "      <td>NaN</td>\n",
       "      <td>445.4</td>\n",
       "      <td>589.0</td>\n",
       "      <td>621.5</td>\n",
       "      <td>465.5</td>\n",
       "      <td>560.0</td>\n",
       "      <td>D</td>\n",
       "    </tr>\n",
       "    <tr>\n",
       "      <th>1</th>\n",
       "      <td>1</td>\n",
       "      <td>170003333545</td>\n",
       "      <td>2017</td>\n",
       "      <td>Cassilândia</td>\n",
       "      <td>Cassilândia</td>\n",
       "      <td>MS</td>\n",
       "      <td>NaN</td>\n",
       "      <td>NaN</td>\n",
       "      <td>NaN</td>\n",
       "      <td>NaN</td>\n",
       "      <td>NaN</td>\n",
       "      <td>NaN</td>\n",
       "      <td>NaN</td>\n",
       "      <td>NaN</td>\n",
       "      <td>C</td>\n",
       "    </tr>\n",
       "    <tr>\n",
       "      <th>2</th>\n",
       "      <td>2</td>\n",
       "      <td>170001663644</td>\n",
       "      <td>2017</td>\n",
       "      <td>São Paulo</td>\n",
       "      <td>São Paulo</td>\n",
       "      <td>SP</td>\n",
       "      <td>NaN</td>\n",
       "      <td>NaN</td>\n",
       "      <td>NaN</td>\n",
       "      <td>NaN</td>\n",
       "      <td>NaN</td>\n",
       "      <td>NaN</td>\n",
       "      <td>NaN</td>\n",
       "      <td>NaN</td>\n",
       "      <td>G</td>\n",
       "    </tr>\n",
       "    <tr>\n",
       "      <th>3</th>\n",
       "      <td>3</td>\n",
       "      <td>170001663645</td>\n",
       "      <td>2017</td>\n",
       "      <td>Lages</td>\n",
       "      <td>Lages</td>\n",
       "      <td>SC</td>\n",
       "      <td>NaN</td>\n",
       "      <td>NaN</td>\n",
       "      <td>NaN</td>\n",
       "      <td>604.0</td>\n",
       "      <td>610.4</td>\n",
       "      <td>563.9</td>\n",
       "      <td>591.2</td>\n",
       "      <td>580.0</td>\n",
       "      <td>D</td>\n",
       "    </tr>\n",
       "    <tr>\n",
       "      <th>4</th>\n",
       "      <td>4</td>\n",
       "      <td>170001663646</td>\n",
       "      <td>2017</td>\n",
       "      <td>Maceió</td>\n",
       "      <td>Maceió</td>\n",
       "      <td>AL</td>\n",
       "      <td>NaN</td>\n",
       "      <td>NaN</td>\n",
       "      <td>NaN</td>\n",
       "      <td>482.1</td>\n",
       "      <td>569.2</td>\n",
       "      <td>570.8</td>\n",
       "      <td>584.6</td>\n",
       "      <td>580.0</td>\n",
       "      <td>C</td>\n",
       "    </tr>\n",
       "  </tbody>\n",
       "</table>\n",
       "</div>"
      ],
      "text/plain": [
       "   Unnamed: 0  NU_INSCRICAO  NU_ANO NO_MUNICIPIO_RESIDENCIA  \\\n",
       "0           0  170003336736    2017              Araraquara   \n",
       "1           1  170003333545    2017             Cassilândia   \n",
       "2           2  170001663644    2017               São Paulo   \n",
       "3           3  170001663645    2017                   Lages   \n",
       "4           4  170001663646    2017                  Maceió   \n",
       "\n",
       "  NO_MUNICIPIO_NASCIMENTO SG_UF_NASCIMENTO  CO_ESCOLA NO_MUNICIPIO_ESC  \\\n",
       "0              Araraquara               SP        NaN              NaN   \n",
       "1             Cassilândia               MS        NaN              NaN   \n",
       "2               São Paulo               SP        NaN              NaN   \n",
       "3                   Lages               SC        NaN              NaN   \n",
       "4                  Maceió               AL        NaN              NaN   \n",
       "\n",
       "  SG_UF_ESC  NU_NOTA_CN  NU_NOTA_CH  NU_NOTA_LC  NU_NOTA_MT  NU_NOTA_REDACAO  \\\n",
       "0       NaN       445.4       589.0       621.5       465.5            560.0   \n",
       "1       NaN         NaN         NaN         NaN         NaN              NaN   \n",
       "2       NaN         NaN         NaN         NaN         NaN              NaN   \n",
       "3       NaN       604.0       610.4       563.9       591.2            580.0   \n",
       "4       NaN       482.1       569.2       570.8       584.6            580.0   \n",
       "\n",
       "  Q006  \n",
       "0    D  \n",
       "1    C  \n",
       "2    G  \n",
       "3    D  \n",
       "4    C  "
      ]
     },
     "execution_count": 12,
     "metadata": {},
     "output_type": "execute_result"
    }
   ],
   "source": [
    "dados_enem.head()"
   ]
  },
  {
   "cell_type": "markdown",
   "id": "d8447cf9",
   "metadata": {},
   "source": [
    "Podemos notar que durante a junção dos das tabelas de 2017, 2018 e 2019 resultou na criação de uma coluna de index. Vamos excluí-la.\n",
    "Deletando a coluna de índice gerada durante a junção dos dados"
   ]
  },
  {
   "cell_type": "code",
   "execution_count": 13,
   "id": "b2b3d37f",
   "metadata": {
    "scrolled": false
   },
   "outputs": [],
   "source": [
    "del dados_enem['Unnamed: 0']"
   ]
  },
  {
   "cell_type": "markdown",
   "id": "b8135231",
   "metadata": {},
   "source": [
    "Verificando as estatísticas descritivas gerais do conjunto de dados"
   ]
  },
  {
   "cell_type": "code",
   "execution_count": 14,
   "id": "5a578b89",
   "metadata": {
    "scrolled": true
   },
   "outputs": [
    {
     "data": {
      "text/html": [
       "<div>\n",
       "<style scoped>\n",
       "    .dataframe tbody tr th:only-of-type {\n",
       "        vertical-align: middle;\n",
       "    }\n",
       "\n",
       "    .dataframe tbody tr th {\n",
       "        vertical-align: top;\n",
       "    }\n",
       "\n",
       "    .dataframe thead th {\n",
       "        text-align: right;\n",
       "    }\n",
       "</style>\n",
       "<table border=\"1\" class=\"dataframe\">\n",
       "  <thead>\n",
       "    <tr style=\"text-align: right;\">\n",
       "      <th></th>\n",
       "      <th>NU_INSCRICAO</th>\n",
       "      <th>NU_ANO</th>\n",
       "      <th>CO_ESCOLA</th>\n",
       "      <th>NU_NOTA_CN</th>\n",
       "      <th>NU_NOTA_CH</th>\n",
       "      <th>NU_NOTA_LC</th>\n",
       "      <th>NU_NOTA_MT</th>\n",
       "      <th>NU_NOTA_REDACAO</th>\n",
       "    </tr>\n",
       "  </thead>\n",
       "  <tbody>\n",
       "    <tr>\n",
       "      <th>count</th>\n",
       "      <td>1.734036e+07</td>\n",
       "      <td>1.734036e+07</td>\n",
       "      <td>4.382154e+06</td>\n",
       "      <td>1.205309e+07</td>\n",
       "      <td>1.277284e+07</td>\n",
       "      <td>1.277284e+07</td>\n",
       "      <td>1.205309e+07</td>\n",
       "      <td>1.277284e+07</td>\n",
       "    </tr>\n",
       "    <tr>\n",
       "      <th>mean</th>\n",
       "      <td>1.790622e+11</td>\n",
       "      <td>2.017906e+03</td>\n",
       "      <td>3.157552e+07</td>\n",
       "      <td>4.951258e+02</td>\n",
       "      <td>5.312721e+02</td>\n",
       "      <td>5.186499e+02</td>\n",
       "      <td>5.254963e+02</td>\n",
       "      <td>5.329876e+02</td>\n",
       "    </tr>\n",
       "    <tr>\n",
       "      <th>std</th>\n",
       "      <td>8.204758e+09</td>\n",
       "      <td>8.204426e-01</td>\n",
       "      <td>9.727230e+06</td>\n",
       "      <td>7.526044e+01</td>\n",
       "      <td>8.645695e+01</td>\n",
       "      <td>6.865241e+01</td>\n",
       "      <td>1.059185e+02</td>\n",
       "      <td>1.891160e+02</td>\n",
       "    </tr>\n",
       "    <tr>\n",
       "      <th>min</th>\n",
       "      <td>1.700000e+11</td>\n",
       "      <td>2.017000e+03</td>\n",
       "      <td>1.100006e+07</td>\n",
       "      <td>0.000000e+00</td>\n",
       "      <td>0.000000e+00</td>\n",
       "      <td>0.000000e+00</td>\n",
       "      <td>0.000000e+00</td>\n",
       "      <td>0.000000e+00</td>\n",
       "    </tr>\n",
       "    <tr>\n",
       "      <th>25%</th>\n",
       "      <td>1.700043e+11</td>\n",
       "      <td>2.017000e+03</td>\n",
       "      <td>2.432730e+07</td>\n",
       "      <td>4.366000e+02</td>\n",
       "      <td>4.673000e+02</td>\n",
       "      <td>4.753000e+02</td>\n",
       "      <td>4.420000e+02</td>\n",
       "      <td>4.400000e+02</td>\n",
       "    </tr>\n",
       "    <tr>\n",
       "      <th>50%</th>\n",
       "      <td>1.800094e+11</td>\n",
       "      <td>2.018000e+03</td>\n",
       "      <td>3.134928e+07</td>\n",
       "      <td>4.886000e+02</td>\n",
       "      <td>5.356000e+02</td>\n",
       "      <td>5.232000e+02</td>\n",
       "      <td>5.072000e+02</td>\n",
       "      <td>5.600000e+02</td>\n",
       "    </tr>\n",
       "    <tr>\n",
       "      <th>75%</th>\n",
       "      <td>1.900018e+11</td>\n",
       "      <td>2.019000e+03</td>\n",
       "      <td>3.530482e+07</td>\n",
       "      <td>5.476000e+02</td>\n",
       "      <td>5.969000e+02</td>\n",
       "      <td>5.668000e+02</td>\n",
       "      <td>5.938000e+02</td>\n",
       "      <td>6.400000e+02</td>\n",
       "    </tr>\n",
       "    <tr>\n",
       "      <th>max</th>\n",
       "      <td>1.900061e+11</td>\n",
       "      <td>2.019000e+03</td>\n",
       "      <td>5.308802e+07</td>\n",
       "      <td>8.856000e+02</td>\n",
       "      <td>8.683000e+02</td>\n",
       "      <td>8.169000e+02</td>\n",
       "      <td>9.961000e+02</td>\n",
       "      <td>1.000000e+03</td>\n",
       "    </tr>\n",
       "  </tbody>\n",
       "</table>\n",
       "</div>"
      ],
      "text/plain": [
       "       NU_INSCRICAO        NU_ANO     CO_ESCOLA    NU_NOTA_CN    NU_NOTA_CH  \\\n",
       "count  1.734036e+07  1.734036e+07  4.382154e+06  1.205309e+07  1.277284e+07   \n",
       "mean   1.790622e+11  2.017906e+03  3.157552e+07  4.951258e+02  5.312721e+02   \n",
       "std    8.204758e+09  8.204426e-01  9.727230e+06  7.526044e+01  8.645695e+01   \n",
       "min    1.700000e+11  2.017000e+03  1.100006e+07  0.000000e+00  0.000000e+00   \n",
       "25%    1.700043e+11  2.017000e+03  2.432730e+07  4.366000e+02  4.673000e+02   \n",
       "50%    1.800094e+11  2.018000e+03  3.134928e+07  4.886000e+02  5.356000e+02   \n",
       "75%    1.900018e+11  2.019000e+03  3.530482e+07  5.476000e+02  5.969000e+02   \n",
       "max    1.900061e+11  2.019000e+03  5.308802e+07  8.856000e+02  8.683000e+02   \n",
       "\n",
       "         NU_NOTA_LC    NU_NOTA_MT  NU_NOTA_REDACAO  \n",
       "count  1.277284e+07  1.205309e+07     1.277284e+07  \n",
       "mean   5.186499e+02  5.254963e+02     5.329876e+02  \n",
       "std    6.865241e+01  1.059185e+02     1.891160e+02  \n",
       "min    0.000000e+00  0.000000e+00     0.000000e+00  \n",
       "25%    4.753000e+02  4.420000e+02     4.400000e+02  \n",
       "50%    5.232000e+02  5.072000e+02     5.600000e+02  \n",
       "75%    5.668000e+02  5.938000e+02     6.400000e+02  \n",
       "max    8.169000e+02  9.961000e+02     1.000000e+03  "
      ]
     },
     "execution_count": 14,
     "metadata": {},
     "output_type": "execute_result"
    }
   ],
   "source": [
    "dados_enem.describe()"
   ]
  },
  {
   "cell_type": "markdown",
   "id": "017afecb",
   "metadata": {},
   "source": [
    "Obtendo a porcentagem de valores missing do conjunto de dados"
   ]
  },
  {
   "cell_type": "code",
   "execution_count": 15,
   "id": "834bace4",
   "metadata": {
    "scrolled": false
   },
   "outputs": [
    {
     "name": "stdout",
     "output_type": "stream",
     "text": [
      "\n",
      "\n",
      "Tabela: Quantidade de valores missing presentes no conjunto de dados: \n",
      "\n"
     ]
    },
    {
     "data": {
      "text/html": [
       "<div>\n",
       "<style scoped>\n",
       "    .dataframe tbody tr th:only-of-type {\n",
       "        vertical-align: middle;\n",
       "    }\n",
       "\n",
       "    .dataframe tbody tr th {\n",
       "        vertical-align: top;\n",
       "    }\n",
       "\n",
       "    .dataframe thead th {\n",
       "        text-align: right;\n",
       "    }\n",
       "</style>\n",
       "<table border=\"1\" class=\"dataframe\">\n",
       "  <thead>\n",
       "    <tr style=\"text-align: right;\">\n",
       "      <th></th>\n",
       "      <th>VAR</th>\n",
       "      <th>QTD_NA</th>\n",
       "      <th>%_NA</th>\n",
       "    </tr>\n",
       "  </thead>\n",
       "  <tbody>\n",
       "    <tr>\n",
       "      <th>5</th>\n",
       "      <td>CO_ESCOLA</td>\n",
       "      <td>12958204</td>\n",
       "      <td>20.16</td>\n",
       "    </tr>\n",
       "    <tr>\n",
       "      <th>6</th>\n",
       "      <td>NO_MUNICIPIO_ESC</td>\n",
       "      <td>12958211</td>\n",
       "      <td>20.16</td>\n",
       "    </tr>\n",
       "    <tr>\n",
       "      <th>7</th>\n",
       "      <td>SG_UF_ESC</td>\n",
       "      <td>12958211</td>\n",
       "      <td>20.16</td>\n",
       "    </tr>\n",
       "    <tr>\n",
       "      <th>8</th>\n",
       "      <td>NU_NOTA_CN</td>\n",
       "      <td>5287266</td>\n",
       "      <td>8.23</td>\n",
       "    </tr>\n",
       "    <tr>\n",
       "      <th>11</th>\n",
       "      <td>NU_NOTA_MT</td>\n",
       "      <td>5287266</td>\n",
       "      <td>8.23</td>\n",
       "    </tr>\n",
       "    <tr>\n",
       "      <th>9</th>\n",
       "      <td>NU_NOTA_CH</td>\n",
       "      <td>4567521</td>\n",
       "      <td>7.11</td>\n",
       "    </tr>\n",
       "    <tr>\n",
       "      <th>10</th>\n",
       "      <td>NU_NOTA_LC</td>\n",
       "      <td>4567521</td>\n",
       "      <td>7.11</td>\n",
       "    </tr>\n",
       "    <tr>\n",
       "      <th>12</th>\n",
       "      <td>NU_NOTA_REDACAO</td>\n",
       "      <td>4567522</td>\n",
       "      <td>7.11</td>\n",
       "    </tr>\n",
       "    <tr>\n",
       "      <th>3</th>\n",
       "      <td>NO_MUNICIPIO_NASCIMENTO</td>\n",
       "      <td>560805</td>\n",
       "      <td>0.87</td>\n",
       "    </tr>\n",
       "    <tr>\n",
       "      <th>4</th>\n",
       "      <td>SG_UF_NASCIMENTO</td>\n",
       "      <td>560805</td>\n",
       "      <td>0.87</td>\n",
       "    </tr>\n",
       "    <tr>\n",
       "      <th>0</th>\n",
       "      <td>NU_INSCRICAO</td>\n",
       "      <td>0</td>\n",
       "      <td>0.00</td>\n",
       "    </tr>\n",
       "    <tr>\n",
       "      <th>1</th>\n",
       "      <td>NU_ANO</td>\n",
       "      <td>0</td>\n",
       "      <td>0.00</td>\n",
       "    </tr>\n",
       "    <tr>\n",
       "      <th>2</th>\n",
       "      <td>NO_MUNICIPIO_RESIDENCIA</td>\n",
       "      <td>0</td>\n",
       "      <td>0.00</td>\n",
       "    </tr>\n",
       "    <tr>\n",
       "      <th>13</th>\n",
       "      <td>Q006</td>\n",
       "      <td>1</td>\n",
       "      <td>0.00</td>\n",
       "    </tr>\n",
       "  </tbody>\n",
       "</table>\n",
       "</div>"
      ],
      "text/plain": [
       "                        VAR    QTD_NA   %_NA\n",
       "5                 CO_ESCOLA  12958204  20.16\n",
       "6          NO_MUNICIPIO_ESC  12958211  20.16\n",
       "7                 SG_UF_ESC  12958211  20.16\n",
       "8                NU_NOTA_CN   5287266   8.23\n",
       "11               NU_NOTA_MT   5287266   8.23\n",
       "9                NU_NOTA_CH   4567521   7.11\n",
       "10               NU_NOTA_LC   4567521   7.11\n",
       "12          NU_NOTA_REDACAO   4567522   7.11\n",
       "3   NO_MUNICIPIO_NASCIMENTO    560805   0.87\n",
       "4          SG_UF_NASCIMENTO    560805   0.87\n",
       "0              NU_INSCRICAO         0   0.00\n",
       "1                    NU_ANO         0   0.00\n",
       "2   NO_MUNICIPIO_RESIDENCIA         0   0.00\n",
       "13                     Q006         1   0.00"
      ]
     },
     "execution_count": 15,
     "metadata": {},
     "output_type": "execute_result"
    }
   ],
   "source": [
    "df_valores_missing = pd.DataFrame(dados_enem.isnull().sum(axis=0), columns = ['QTD_NA'])\n",
    "df_valores_missing.reset_index(drop=False, inplace=True)\n",
    "df_valores_missing.rename(columns={'index': 'VAR'}, inplace=True)\n",
    "percent_missing = [round((df_valores_missing['QTD_NA'][i] / df_valores_missing['QTD_NA'].sum()) * 100, 2) for i in df_valores_missing.index]\n",
    "df_valores_missing['%_NA'] = percent_missing\n",
    "df_valores_missing.sort_values(by= '%_NA', ascending=False, inplace=True)\n",
    "print('\\n\\nTabela: Quantidade de valores missing presentes no conjunto de dados: \\n')\n",
    "df_valores_missing"
   ]
  },
  {
   "cell_type": "markdown",
   "id": "f37b92c8",
   "metadata": {},
   "source": [
    "Plotando um gráfico de barras com a porcentagem de valores missing encontrados nas colunas do conjunto de dados."
   ]
  },
  {
   "cell_type": "code",
   "execution_count": 16,
   "id": "29ed8c96",
   "metadata": {
    "scrolled": false
   },
   "outputs": [
    {
     "data": {
      "image/png": "[encoded data removed]",
      "text/plain": [
       "<Figure size 864x720 with 1 Axes>"
      ]
     },
     "metadata": {
      "needs_background": "light"
     },
     "output_type": "display_data"
    }
   ],
   "source": [
    "p1, ax1 = plt.subplots(figsize=(12, 10))\n",
    "ax1 = sns.barplot(x=df_valores_missing['%_NA'], y=df_valores_missing['VAR'], orient='h')\n",
    "ax1.set_title('\\n Porcentagem de Valores Missing por Coluna \\n', fontdict={'fontsize':15})\n",
    "ax1.set_ylabel('\\n Colunas \\n', fontdict={'fontsize':15})\n",
    "ax1.set_xlabel('\\n Porcentagem de Valores Missing \\n', fontdict={'fontsize':15})\n",
    "ax1.set_yticklabels(labels =df_valores_missing['VAR'], fontdict={'fontsize':12})\n",
    "ax1.set_xlim()\n",
    "ax1.spines['top'].set_visible(False)\n",
    "ax1.spines['right'].set_visible(False)\n",
    "\n",
    "# Plotando os rótulos de dados do gráfico\n",
    "for p in ax1.patches:\n",
    "    _x = p.get_x() + p.get_width() + 0.8\n",
    "    _y = p.get_y() + p.get_height() -0.3\n",
    "    value = str(p.get_width()) + '%'\n",
    "    ax1.text(_x, _y, value, fontdict={'color':'black', 'fontsize':14},\n",
    "              horizontalalignment='center')"
   ]
  },
  {
   "cell_type": "code",
   "execution_count": 17,
   "id": "d6b3d4de",
   "metadata": {},
   "outputs": [],
   "source": [
    "p1.savefig('images/porcentagem_na_antes.png', dpi=400)"
   ]
  },
  {
   "cell_type": "code",
   "execution_count": 18,
   "id": "d4da19f2",
   "metadata": {},
   "outputs": [],
   "source": [
    "del(dados_enem)"
   ]
  },
  {
   "cell_type": "markdown",
   "id": "d4e3278d",
   "metadata": {},
   "source": [
    "###### Esta análise continua no arquivo \"analise_enem_parte_2\""
   ]
  }
 ],
 "metadata": {
  "kernelspec": {
   "display_name": "Python 3 (ipykernel)",
   "language": "python",
   "name": "python3"
  },
  "language_info": {
   "codemirror_mode": {
    "name": "ipython",
    "version": 3
   },
   "file_extension": ".py",
   "mimetype": "text/x-python",
   "name": "python",
   "nbconvert_exporter": "python",
   "pygments_lexer": "ipython3",
   "version": "3.8.12"
  }
 },
 "nbformat": 4,
 "nbformat_minor": 5
}
