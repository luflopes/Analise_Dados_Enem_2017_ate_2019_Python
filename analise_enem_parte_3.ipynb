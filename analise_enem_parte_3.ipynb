{
 "cells": [
  {
   "cell_type": "markdown",
   "id": "d208a6a8",
   "metadata": {},
   "source": [
    "# Análise de Dados do ENEM Edições 2017, 2018 e 2019\n",
    "### Parte 3\n",
    "___"
   ]
  },
  {
   "cell_type": "markdown",
   "id": "669fd306",
   "metadata": {},
   "source": [
    "### Pergunta 6 - Qual a renda média dos participantes por estado?"
   ]
  },
  {
   "cell_type": "markdown",
   "id": "d160a1a5",
   "metadata": {},
   "source": [
    "#### Importando as bibliotecas para análise de dados"
   ]
  },
  {
   "cell_type": "code",
   "execution_count": 1,
   "id": "bdffb7b6",
   "metadata": {},
   "outputs": [],
   "source": [
    "import pandas as pd\n",
    "import matplotlib.pyplot as plt\n",
    "import json\n",
    "import sqlite3\n",
    "import warnings\n",
    "import os\n",
    "import geopandas as gpd\n",
    "warnings.filterwarnings('ignore')"
   ]
  },
  {
   "cell_type": "markdown",
   "id": "4d4f61d1",
   "metadata": {},
   "source": [
    "Importando o conjunto de dados remodelado com os dados das edições do ENEM de 2017 até 2019."
   ]
  },
  {
   "cell_type": "code",
   "execution_count": 2,
   "id": "17ecca69",
   "metadata": {},
   "outputs": [],
   "source": [
    "dados_enem = pd.read_csv('DADOS/dados_enem_2017_ate_2019.csv',sep=';', encoding='ISO-8859-1')"
   ]
  },
  {
   "cell_type": "markdown",
   "id": "a8428cb4",
   "metadata": {},
   "source": [
    "Dados obtidos do dicionário de dados do ENEM.\n",
    "Estes dados indicam a faixa de renda dos participantes do ENEM"
   ]
  },
  {
   "cell_type": "code",
   "execution_count": 5,
   "id": "d47e6557",
   "metadata": {},
   "outputs": [],
   "source": [
    "dict_renda = {\n",
    "    'A':0,\n",
    "    'B':937.00,\n",
    "    'C':1405.50,\n",
    "    'D':1874.00,\n",
    "    'E':2342.50,\n",
    "    'F':2811.00,\n",
    "    'G':3748.00,\n",
    "    'H':4685.00,\n",
    "    'I':5622.00,\n",
    "    'J':6559.00,\n",
    "    'K':7496.00,\n",
    "    'L':8433.00,\n",
    "    'M':9370.00,\n",
    "    'N':11244.00,\n",
    "    'O':14055.00,\n",
    "    'P':18740.00,\n",
    "    'Q':18740.00\n",
    "}"
   ]
  },
  {
   "cell_type": "markdown",
   "id": "bea4d6eb",
   "metadata": {},
   "source": [
    "Acrescentando os valores de renda no conjunto de dados de acordo com a classificação de renda da coluna \"Q006\""
   ]
  },
  {
   "cell_type": "code",
   "execution_count": 6,
   "id": "f786d23a",
   "metadata": {},
   "outputs": [],
   "source": [
    "temp = pd.DataFrame(data={\"Q006\":dict_renda.keys(), \"VALOR_RENDA\":dict_renda.values()})"
   ]
  },
  {
   "cell_type": "code",
   "execution_count": 7,
   "id": "35a16b9e",
   "metadata": {
    "scrolled": true
   },
   "outputs": [
    {
     "data": {
      "text/html": [
       "<div>\n",
       "<style scoped>\n",
       "    .dataframe tbody tr th:only-of-type {\n",
       "        vertical-align: middle;\n",
       "    }\n",
       "\n",
       "    .dataframe tbody tr th {\n",
       "        vertical-align: top;\n",
       "    }\n",
       "\n",
       "    .dataframe thead th {\n",
       "        text-align: right;\n",
       "    }\n",
       "</style>\n",
       "<table border=\"1\" class=\"dataframe\">\n",
       "  <thead>\n",
       "    <tr style=\"text-align: right;\">\n",
       "      <th></th>\n",
       "      <th>Q006</th>\n",
       "      <th>VALOR_RENDA</th>\n",
       "    </tr>\n",
       "  </thead>\n",
       "  <tbody>\n",
       "    <tr>\n",
       "      <th>0</th>\n",
       "      <td>A</td>\n",
       "      <td>0.0</td>\n",
       "    </tr>\n",
       "    <tr>\n",
       "      <th>1</th>\n",
       "      <td>B</td>\n",
       "      <td>937.0</td>\n",
       "    </tr>\n",
       "    <tr>\n",
       "      <th>2</th>\n",
       "      <td>C</td>\n",
       "      <td>1405.5</td>\n",
       "    </tr>\n",
       "    <tr>\n",
       "      <th>3</th>\n",
       "      <td>D</td>\n",
       "      <td>1874.0</td>\n",
       "    </tr>\n",
       "    <tr>\n",
       "      <th>4</th>\n",
       "      <td>E</td>\n",
       "      <td>2342.5</td>\n",
       "    </tr>\n",
       "  </tbody>\n",
       "</table>\n",
       "</div>"
      ],
      "text/plain": [
       "  Q006  VALOR_RENDA\n",
       "0    A          0.0\n",
       "1    B        937.0\n",
       "2    C       1405.5\n",
       "3    D       1874.0\n",
       "4    E       2342.5"
      ]
     },
     "execution_count": 7,
     "metadata": {},
     "output_type": "execute_result"
    }
   ],
   "source": [
    "temp.head()"
   ]
  },
  {
   "cell_type": "markdown",
   "id": "ea8a1e3f",
   "metadata": {},
   "source": [
    "Vamos combinar o data frame temporário criado acima com o conjunto de dados do enem para obtermos a coluna VALOR_RENDA."
   ]
  },
  {
   "cell_type": "code",
   "execution_count": 8,
   "id": "4a4d61d1",
   "metadata": {},
   "outputs": [],
   "source": [
    "dados_enem = dados_enem.merge(temp, on='Q006', how='left', validate='m:1')"
   ]
  },
  {
   "cell_type": "code",
   "execution_count": 9,
   "id": "3a60e133",
   "metadata": {
    "scrolled": false
   },
   "outputs": [
    {
     "data": {
      "text/html": [
       "<div>\n",
       "<style scoped>\n",
       "    .dataframe tbody tr th:only-of-type {\n",
       "        vertical-align: middle;\n",
       "    }\n",
       "\n",
       "    .dataframe tbody tr th {\n",
       "        vertical-align: top;\n",
       "    }\n",
       "\n",
       "    .dataframe thead th {\n",
       "        text-align: right;\n",
       "    }\n",
       "</style>\n",
       "<table border=\"1\" class=\"dataframe\">\n",
       "  <thead>\n",
       "    <tr style=\"text-align: right;\">\n",
       "      <th></th>\n",
       "      <th>Unnamed: 0</th>\n",
       "      <th>NU_INSCRICAO</th>\n",
       "      <th>NU_ANO</th>\n",
       "      <th>NO_MUNICIPIO_RESIDENCIA</th>\n",
       "      <th>NO_MUNICIPIO_ESC</th>\n",
       "      <th>CO_ESCOLA</th>\n",
       "      <th>SG_UF_ESC</th>\n",
       "      <th>Q006</th>\n",
       "      <th>AREA_CON</th>\n",
       "      <th>NOTAS</th>\n",
       "      <th>VALOR_RENDA</th>\n",
       "    </tr>\n",
       "  </thead>\n",
       "  <tbody>\n",
       "    <tr>\n",
       "      <th>0</th>\n",
       "      <td>0</td>\n",
       "      <td>170001663652</td>\n",
       "      <td>2017</td>\n",
       "      <td>Itacoatiara</td>\n",
       "      <td>Itacoatiara</td>\n",
       "      <td>13079220.0</td>\n",
       "      <td>AM</td>\n",
       "      <td>P</td>\n",
       "      <td>Ciências da Natureza</td>\n",
       "      <td>540.7</td>\n",
       "      <td>18740.0</td>\n",
       "    </tr>\n",
       "    <tr>\n",
       "      <th>1</th>\n",
       "      <td>1</td>\n",
       "      <td>170001664222</td>\n",
       "      <td>2017</td>\n",
       "      <td>Salvador</td>\n",
       "      <td>Salvador</td>\n",
       "      <td>29422418.0</td>\n",
       "      <td>BA</td>\n",
       "      <td>Q</td>\n",
       "      <td>Ciências da Natureza</td>\n",
       "      <td>396.4</td>\n",
       "      <td>18740.0</td>\n",
       "    </tr>\n",
       "    <tr>\n",
       "      <th>2</th>\n",
       "      <td>2</td>\n",
       "      <td>170001665543</td>\n",
       "      <td>2017</td>\n",
       "      <td>São Paulo</td>\n",
       "      <td>São Paulo</td>\n",
       "      <td>35001259.0</td>\n",
       "      <td>SP</td>\n",
       "      <td>F</td>\n",
       "      <td>Ciências da Natureza</td>\n",
       "      <td>452.8</td>\n",
       "      <td>2811.0</td>\n",
       "    </tr>\n",
       "    <tr>\n",
       "      <th>3</th>\n",
       "      <td>3</td>\n",
       "      <td>170001663747</td>\n",
       "      <td>2017</td>\n",
       "      <td>Santa Bárbara d'Oeste</td>\n",
       "      <td>Santa Bárbara d'Oeste</td>\n",
       "      <td>35925950.0</td>\n",
       "      <td>SP</td>\n",
       "      <td>D</td>\n",
       "      <td>Ciências da Natureza</td>\n",
       "      <td>496.0</td>\n",
       "      <td>1874.0</td>\n",
       "    </tr>\n",
       "    <tr>\n",
       "      <th>4</th>\n",
       "      <td>4</td>\n",
       "      <td>170003333557</td>\n",
       "      <td>2017</td>\n",
       "      <td>Lapão</td>\n",
       "      <td>Irecê</td>\n",
       "      <td>29428408.0</td>\n",
       "      <td>BA</td>\n",
       "      <td>B</td>\n",
       "      <td>Ciências da Natureza</td>\n",
       "      <td>591.1</td>\n",
       "      <td>937.0</td>\n",
       "    </tr>\n",
       "  </tbody>\n",
       "</table>\n",
       "</div>"
      ],
      "text/plain": [
       "   Unnamed: 0  NU_INSCRICAO  NU_ANO NO_MUNICIPIO_RESIDENCIA  \\\n",
       "0           0  170001663652    2017             Itacoatiara   \n",
       "1           1  170001664222    2017                Salvador   \n",
       "2           2  170001665543    2017               São Paulo   \n",
       "3           3  170001663747    2017   Santa Bárbara d'Oeste   \n",
       "4           4  170003333557    2017                   Lapão   \n",
       "\n",
       "        NO_MUNICIPIO_ESC   CO_ESCOLA SG_UF_ESC Q006              AREA_CON  \\\n",
       "0            Itacoatiara  13079220.0        AM    P  Ciências da Natureza   \n",
       "1               Salvador  29422418.0        BA    Q  Ciências da Natureza   \n",
       "2              São Paulo  35001259.0        SP    F  Ciências da Natureza   \n",
       "3  Santa Bárbara d'Oeste  35925950.0        SP    D  Ciências da Natureza   \n",
       "4                  Irecê  29428408.0        BA    B  Ciências da Natureza   \n",
       "\n",
       "   NOTAS  VALOR_RENDA  \n",
       "0  540.7      18740.0  \n",
       "1  396.4      18740.0  \n",
       "2  452.8       2811.0  \n",
       "3  496.0       1874.0  \n",
       "4  591.1        937.0  "
      ]
     },
     "execution_count": 9,
     "metadata": {},
     "output_type": "execute_result"
    }
   ],
   "source": [
    "dados_enem.head()"
   ]
  },
  {
   "cell_type": "code",
   "execution_count": 10,
   "id": "2d50a837",
   "metadata": {},
   "outputs": [],
   "source": [
    "del dados_enem['Unnamed: 0']"
   ]
  },
  {
   "cell_type": "markdown",
   "id": "15cc537b",
   "metadata": {},
   "source": [
    "Agora, vamos importar o conjunto de [dados de geolocalização](https://www.kaggle.com/thiagobodruk/brazil-geojson/version/1) (para construir o gráfico de mapa obtidos) do Kaggle que nos fornecerá os nomes dos estados para cada UF.\n"
   ]
  },
  {
   "cell_type": "code",
   "execution_count": 11,
   "id": "1bbe2584",
   "metadata": {},
   "outputs": [],
   "source": [
    "estados_brasil = json.load(open(\"DADOS/brazil_geo.json\", \"r\", encoding='UTF-8'))"
   ]
  },
  {
   "cell_type": "markdown",
   "id": "74849fdd",
   "metadata": {},
   "source": [
    "Utilizando o arquivo json para obter um dicionário com as siglas e nomes dos estados brasileiros"
   ]
  },
  {
   "cell_type": "code",
   "execution_count": 12,
   "id": "eb71c5a0",
   "metadata": {},
   "outputs": [],
   "source": [
    "state_id_map = {}\n",
    "for feature in estados_brasil[\"features\"]:\n",
    "    feature[\"id\"] = feature[\"id\"]\n",
    "    state_id_map[feature[\"id\"]] = feature[\"properties\"][\"name\"]"
   ]
  },
  {
   "cell_type": "markdown",
   "id": "69542e0b",
   "metadata": {},
   "source": [
    "Visualizando o conjunto de dados do dicionário"
   ]
  },
  {
   "cell_type": "code",
   "execution_count": 13,
   "id": "55e45df0",
   "metadata": {
    "scrolled": false
   },
   "outputs": [
    {
     "data": {
      "text/plain": [
       "{'AC': 'Acre',\n",
       " 'AL': 'Alagoas',\n",
       " 'AP': 'Amapá',\n",
       " 'AM': 'Amazonas',\n",
       " 'BA': 'Bahia',\n",
       " 'CE': 'Ceará',\n",
       " 'DF': 'Distrito Federal',\n",
       " 'ES': 'Espírito Santo',\n",
       " 'GO': 'Goiás',\n",
       " 'MA': 'Maranhão',\n",
       " 'MT': 'Mato Grosso',\n",
       " 'MS': 'Mato Grosso do Sul',\n",
       " 'MG': 'Minas Gerais',\n",
       " 'PA': 'Pará',\n",
       " 'PB': 'Paraíba',\n",
       " 'PR': 'Paraná',\n",
       " 'PE': 'Pernambuco',\n",
       " 'PI': 'Piauí',\n",
       " 'RJ': 'Rio de Janeiro',\n",
       " 'RN': 'Rio Grande do Norte',\n",
       " 'RS': 'Rio Grande do Sul',\n",
       " 'RO': 'Rondônia',\n",
       " 'RR': 'Roraima',\n",
       " 'SC': 'Santa Catarina',\n",
       " 'SP': 'São Paulo',\n",
       " 'SE': 'Sergipe',\n",
       " 'TO': 'Tocantins'}"
      ]
     },
     "execution_count": 13,
     "metadata": {},
     "output_type": "execute_result"
    }
   ],
   "source": [
    "state_id_map"
   ]
  },
  {
   "cell_type": "markdown",
   "id": "db561a14",
   "metadata": {},
   "source": [
    "Calculando a renda média por estado."
   ]
  },
  {
   "cell_type": "code",
   "execution_count": 21,
   "id": "edfad376",
   "metadata": {
    "scrolled": false
   },
   "outputs": [
    {
     "data": {
      "text/html": [
       "<div>\n",
       "<style scoped>\n",
       "    .dataframe tbody tr th:only-of-type {\n",
       "        vertical-align: middle;\n",
       "    }\n",
       "\n",
       "    .dataframe tbody tr th {\n",
       "        vertical-align: top;\n",
       "    }\n",
       "\n",
       "    .dataframe thead th {\n",
       "        text-align: right;\n",
       "    }\n",
       "</style>\n",
       "<table border=\"1\" class=\"dataframe\">\n",
       "  <thead>\n",
       "    <tr style=\"text-align: right;\">\n",
       "      <th></th>\n",
       "      <th>SG_UF_ESC</th>\n",
       "      <th>VALOR_RENDA</th>\n",
       "      <th>NOTAS</th>\n",
       "      <th>ESTADO</th>\n",
       "    </tr>\n",
       "  </thead>\n",
       "  <tbody>\n",
       "    <tr>\n",
       "      <th>0</th>\n",
       "      <td>AC</td>\n",
       "      <td>1821.090392</td>\n",
       "      <td>402.554686</td>\n",
       "      <td>ACRE</td>\n",
       "    </tr>\n",
       "    <tr>\n",
       "      <th>1</th>\n",
       "      <td>AL</td>\n",
       "      <td>1818.676995</td>\n",
       "      <td>419.212433</td>\n",
       "      <td>ALAGOAS</td>\n",
       "    </tr>\n",
       "    <tr>\n",
       "      <th>2</th>\n",
       "      <td>AM</td>\n",
       "      <td>1795.338649</td>\n",
       "      <td>363.965889</td>\n",
       "      <td>AMAZONAS</td>\n",
       "    </tr>\n",
       "    <tr>\n",
       "      <th>3</th>\n",
       "      <td>AP</td>\n",
       "      <td>1968.956215</td>\n",
       "      <td>405.769938</td>\n",
       "      <td>AMAPÁ</td>\n",
       "    </tr>\n",
       "    <tr>\n",
       "      <th>4</th>\n",
       "      <td>BA</td>\n",
       "      <td>1902.552693</td>\n",
       "      <td>425.232271</td>\n",
       "      <td>BAHIA</td>\n",
       "    </tr>\n",
       "  </tbody>\n",
       "</table>\n",
       "</div>"
      ],
      "text/plain": [
       "  SG_UF_ESC  VALOR_RENDA       NOTAS    ESTADO\n",
       "0        AC  1821.090392  402.554686      ACRE\n",
       "1        AL  1818.676995  419.212433   ALAGOAS\n",
       "2        AM  1795.338649  363.965889  AMAZONAS\n",
       "3        AP  1968.956215  405.769938     AMAPÁ\n",
       "4        BA  1902.552693  425.232271     BAHIA"
      ]
     },
     "execution_count": 21,
     "metadata": {},
     "output_type": "execute_result"
    }
   ],
   "source": [
    "renda_por_uf = dados_enem.groupby(['SG_UF_ESC'], as_index=False).mean()[['SG_UF_ESC','VALOR_RENDA', 'NOTAS']]\n",
    "renda_por_uf['ESTADO'] = [state_id_map[renda_por_uf['SG_UF_ESC'][i]] for i in renda_por_uf.index]\n",
    "renda_por_uf['ESTADO'] = renda_por_uf['ESTADO'].str.upper()\n",
    "renda_por_uf.sort_values(by='VALOR_RENDA', ascending=False)\n",
    "\n",
    "renda_por_uf.head()"
   ]
  },
  {
   "cell_type": "markdown",
   "id": "ca55ddc4",
   "metadata": {},
   "source": [
    "Agora vamos importar o arquivo que possui as estruturas geométricas (.shp) dos estados brasileiros para combinar os dados de renda com os dados de geometria. Isto nos permitirá plotar um grágico de mapa. Para isto, utilizaremos a biblioteca **geopandas** para ler o arquivo .shp. A recomendação de instalação dessa biblioteca é por meio do Anaconda, usando o comando ```conda install geopandas```. Os arquivos shapefile podem ser encontrados clicando [neste link](ftp://geoftp.ibge.gov.br/organizacao_do_territorio/malhas_territoriais/malhas_municipais/municipio_2017/Brasil/BR). Basta escolher o arquivo *BR_UF_2021.zip*."
   ]
  },
  {
   "cell_type": "code",
   "execution_count": 22,
   "id": "dec2408a",
   "metadata": {},
   "outputs": [],
   "source": [
    "br_map = gpd.read_file('DADOS/shapes/BRUFE250GC_SIR.shp') # Lê o arquivo .shp\n",
    "br_map = br_map.rename(columns={'NM_ESTADO':'ESTADO'}) # Renomeia a coluna 'NM_ESTADO'\n",
    "br_map = br_map.merge(renda_por_uf, on='ESTADO', how='left') # une o mapa com os dados"
   ]
  },
  {
   "cell_type": "markdown",
   "id": "eed057fe",
   "metadata": {},
   "source": [
    "Criando o gráfico de mapa da distribuição média de renda dos participantes por estado"
   ]
  },
  {
   "cell_type": "code",
   "execution_count": 23,
   "id": "a71acdfd",
   "metadata": {
    "scrolled": false
   },
   "outputs": [
    {
     "data": {
      "image/png": "[encoded data removed]",
      "text/plain": [
       "<Figure size 864x504 with 2 Axes>"
      ]
     },
     "metadata": {
      "needs_background": "light"
     },
     "output_type": "display_data"
    }
   ],
   "source": [
    "fig, ax = plt.subplots(figsize=(12, 7))\n",
    "\n",
    "\n",
    "ax.spines[['right','top','left','bottom']].set_visible(False) # Oculta as linhas dos eixos\n",
    "ax.get_xaxis().set_visible(False)                             # Oculta os valores do eixo x\n",
    "ax.get_yaxis().set_visible(False)                             # Oculta os valores do eixo y\n",
    "ax.set_title('\\n Renda Média por Estado do Brasil \\n', fontdict={'fontsize':15}) # Adiciona o título do gráfico\n",
    "\n",
    "br_map[\"center\"] = br_map[\"geometry\"].centroid             # Adiciona um centroide na estrututa geopandas\n",
    "br_map_points = br_map.copy()                              # Copia o geodataframe\n",
    "br_map_points.set_geometry(\"center\", inplace = True)       # Faz que o centroide seja a geometria da estrutura\n",
    "\n",
    "ax = br_map.plot(column='VALOR_RENDA', ax=ax, legend=True) # Plota o gráfico\n",
    "\n",
    "texts = []                                                 # Criado para armazenar as siglas dos estados\n",
    "\n",
    "# Inclui as siglas dos estados no gráfico de acordo com as cordenadas (x,y)\n",
    "for x, y, label in zip(br_map_points.geometry.x, br_map_points.geometry.y, br_map_points[\"SG_UF_ESC\"]):\n",
    "    texts.append(plt.text(x, y, label, fontsize = 8, color='white'))   "
   ]
  },
  {
   "cell_type": "code",
   "execution_count": 17,
   "id": "24454179",
   "metadata": {},
   "outputs": [],
   "source": [
    "fig.savefig('images/mapa_renda_media.png', dpi=400)"
   ]
  },
  {
   "cell_type": "markdown",
   "id": "f98dc386",
   "metadata": {},
   "source": [
    "---"
   ]
  },
  {
   "cell_type": "markdown",
   "id": "cc56bec8",
   "metadata": {},
   "source": [
    "### Pergunta 7 - Qual a nota média por estado?\n",
    "\n",
    "Agora vamos construir um gráfico de mapa para visualizar a nota média por estado."
   ]
  },
  {
   "cell_type": "markdown",
   "id": "bf0c8c77",
   "metadata": {},
   "source": [
    "Plotando um gráfico de mapa para visualizar como a nota média está distribuída pelos estados"
   ]
  },
  {
   "cell_type": "code",
   "execution_count": 24,
   "id": "7b58824e",
   "metadata": {},
   "outputs": [
    {
     "data": {
      "image/png": "[encoded data removed]",
      "text/plain": [
       "<Figure size 864x504 with 2 Axes>"
      ]
     },
     "metadata": {
      "needs_background": "light"
     },
     "output_type": "display_data"
    }
   ],
   "source": [
    "fig, ax = plt.subplots(figsize=(12, 7))\n",
    "\n",
    "\n",
    "ax.spines[['right','top','left','bottom']].set_visible(False) # Oculta as linhas dos eixos\n",
    "ax.get_xaxis().set_visible(False)                             # Oculta os valores do eixo x\n",
    "ax.get_yaxis().set_visible(False)                             # Oculta os valores do eixo y\n",
    "ax.set_title('\\n Nota Média por Estado do Brasil \\n', fontdict={'fontsize':15}) # Adiciona o título do gráfico\n",
    "\n",
    "br_map[\"center\"] = br_map[\"geometry\"].centroid             # Adiciona um centroide na estrututa geopandas\n",
    "br_map_points = br_map.copy()                              # Copia o geodataframe\n",
    "br_map_points.set_geometry(\"center\", inplace = True)       # Faz que o centroide seja a geometria da estrutura\n",
    "\n",
    "ax = br_map.plot(column='NOTAS', ax=ax, legend=True) # Plota o gráfico\n",
    "\n",
    "texts = []                                                 # Criado para armazenar as siglas dos estados\n",
    "\n",
    "# Inclui as siglas dos estados no gráfico de acordo com as cordenadas (x,y)\n",
    "for x, y, label in zip(br_map_points.geometry.x, br_map_points.geometry.y, br_map_points[\"SG_UF_ESC\"]):\n",
    "    texts.append(plt.text(x, y, label, fontsize = 8, color='white')) "
   ]
  },
  {
   "cell_type": "code",
   "execution_count": 25,
   "id": "4c899b38",
   "metadata": {},
   "outputs": [],
   "source": [
    "# Salvando a imagem do gráfico\n",
    "fig.savefig('images/mapa_notas_media.png', dpi=400)"
   ]
  },
  {
   "cell_type": "markdown",
   "id": "d7f3044f",
   "metadata": {},
   "source": [
    "---"
   ]
  },
  {
   "cell_type": "markdown",
   "id": "45fee04b",
   "metadata": {},
   "source": [
    "### Pergunta 8 - Quais são as 10 escolas com maior nota final no ENEM?"
   ]
  },
  {
   "cell_type": "markdown",
   "id": "2dc7b4c4",
   "metadata": {},
   "source": [
    "Removendo o ```.0``` das linhas da coluna ```CODIGO_ESC``` já que ela será nossa chave primária para fazer join com a tabela do Censo Escolar que possui os códigos e nomes da escola. Isto pode levar alguns segundos."
   ]
  },
  {
   "cell_type": "code",
   "execution_count": 34,
   "id": "05b610af",
   "metadata": {},
   "outputs": [],
   "source": [
    "dados_enem['CO_ESCOLA'] = dados_enem['CO_ESCOLA'].astype(str)\n",
    "dados_enem['CO_ESCOLA'] = dados_enem['CO_ESCOLA'].apply(lambda x: str(x).replace('.0', ''))"
   ]
  },
  {
   "cell_type": "code",
   "execution_count": 35,
   "id": "f529515b",
   "metadata": {
    "scrolled": false
   },
   "outputs": [
    {
     "data": {
      "text/html": [
       "<div>\n",
       "<style scoped>\n",
       "    .dataframe tbody tr th:only-of-type {\n",
       "        vertical-align: middle;\n",
       "    }\n",
       "\n",
       "    .dataframe tbody tr th {\n",
       "        vertical-align: top;\n",
       "    }\n",
       "\n",
       "    .dataframe thead th {\n",
       "        text-align: right;\n",
       "    }\n",
       "</style>\n",
       "<table border=\"1\" class=\"dataframe\">\n",
       "  <thead>\n",
       "    <tr style=\"text-align: right;\">\n",
       "      <th></th>\n",
       "      <th>NU_INSCRICAO</th>\n",
       "      <th>NU_ANO</th>\n",
       "      <th>NO_MUNICIPIO_RESIDENCIA</th>\n",
       "      <th>NO_MUNICIPIO_ESC</th>\n",
       "      <th>CO_ESCOLA</th>\n",
       "      <th>SG_UF_ESC</th>\n",
       "      <th>Q006</th>\n",
       "      <th>AREA_CON</th>\n",
       "      <th>NOTAS</th>\n",
       "      <th>VALOR_RENDA</th>\n",
       "    </tr>\n",
       "  </thead>\n",
       "  <tbody>\n",
       "    <tr>\n",
       "      <th>0</th>\n",
       "      <td>170001663652</td>\n",
       "      <td>2017</td>\n",
       "      <td>Itacoatiara</td>\n",
       "      <td>Itacoatiara</td>\n",
       "      <td>13079220</td>\n",
       "      <td>AM</td>\n",
       "      <td>P</td>\n",
       "      <td>Ciências da Natureza</td>\n",
       "      <td>540.7</td>\n",
       "      <td>18740.0</td>\n",
       "    </tr>\n",
       "    <tr>\n",
       "      <th>1</th>\n",
       "      <td>170001664222</td>\n",
       "      <td>2017</td>\n",
       "      <td>Salvador</td>\n",
       "      <td>Salvador</td>\n",
       "      <td>29422418</td>\n",
       "      <td>BA</td>\n",
       "      <td>Q</td>\n",
       "      <td>Ciências da Natureza</td>\n",
       "      <td>396.4</td>\n",
       "      <td>18740.0</td>\n",
       "    </tr>\n",
       "    <tr>\n",
       "      <th>2</th>\n",
       "      <td>170001665543</td>\n",
       "      <td>2017</td>\n",
       "      <td>São Paulo</td>\n",
       "      <td>São Paulo</td>\n",
       "      <td>35001259</td>\n",
       "      <td>SP</td>\n",
       "      <td>F</td>\n",
       "      <td>Ciências da Natureza</td>\n",
       "      <td>452.8</td>\n",
       "      <td>2811.0</td>\n",
       "    </tr>\n",
       "    <tr>\n",
       "      <th>3</th>\n",
       "      <td>170001663747</td>\n",
       "      <td>2017</td>\n",
       "      <td>Santa Bárbara d'Oeste</td>\n",
       "      <td>Santa Bárbara d'Oeste</td>\n",
       "      <td>35925950</td>\n",
       "      <td>SP</td>\n",
       "      <td>D</td>\n",
       "      <td>Ciências da Natureza</td>\n",
       "      <td>496.0</td>\n",
       "      <td>1874.0</td>\n",
       "    </tr>\n",
       "    <tr>\n",
       "      <th>4</th>\n",
       "      <td>170003333557</td>\n",
       "      <td>2017</td>\n",
       "      <td>Lapão</td>\n",
       "      <td>Irecê</td>\n",
       "      <td>29428408</td>\n",
       "      <td>BA</td>\n",
       "      <td>B</td>\n",
       "      <td>Ciências da Natureza</td>\n",
       "      <td>591.1</td>\n",
       "      <td>937.0</td>\n",
       "    </tr>\n",
       "  </tbody>\n",
       "</table>\n",
       "</div>"
      ],
      "text/plain": [
       "   NU_INSCRICAO  NU_ANO NO_MUNICIPIO_RESIDENCIA       NO_MUNICIPIO_ESC  \\\n",
       "0  170001663652    2017             Itacoatiara            Itacoatiara   \n",
       "1  170001664222    2017                Salvador               Salvador   \n",
       "2  170001665543    2017               São Paulo              São Paulo   \n",
       "3  170001663747    2017   Santa Bárbara d'Oeste  Santa Bárbara d'Oeste   \n",
       "4  170003333557    2017                   Lapão                  Irecê   \n",
       "\n",
       "  CO_ESCOLA SG_UF_ESC Q006              AREA_CON  NOTAS  VALOR_RENDA  \n",
       "0  13079220        AM    P  Ciências da Natureza  540.7      18740.0  \n",
       "1  29422418        BA    Q  Ciências da Natureza  396.4      18740.0  \n",
       "2  35001259        SP    F  Ciências da Natureza  452.8       2811.0  \n",
       "3  35925950        SP    D  Ciências da Natureza  496.0       1874.0  \n",
       "4  29428408        BA    B  Ciências da Natureza  591.1        937.0  "
      ]
     },
     "execution_count": 35,
     "metadata": {},
     "output_type": "execute_result"
    }
   ],
   "source": [
    "dados_enem.head()"
   ]
  },
  {
   "cell_type": "markdown",
   "id": "19ba6c1a",
   "metadata": {},
   "source": [
    "Calculando a média por escola."
   ]
  },
  {
   "cell_type": "code",
   "execution_count": 36,
   "id": "b1beb3dd",
   "metadata": {},
   "outputs": [
    {
     "data": {
      "text/html": [
       "<div>\n",
       "<style scoped>\n",
       "    .dataframe tbody tr th:only-of-type {\n",
       "        vertical-align: middle;\n",
       "    }\n",
       "\n",
       "    .dataframe tbody tr th {\n",
       "        vertical-align: top;\n",
       "    }\n",
       "\n",
       "    .dataframe thead th {\n",
       "        text-align: right;\n",
       "    }\n",
       "</style>\n",
       "<table border=\"1\" class=\"dataframe\">\n",
       "  <thead>\n",
       "    <tr style=\"text-align: right;\">\n",
       "      <th></th>\n",
       "      <th>CO_ESCOLA</th>\n",
       "      <th>NOTAS</th>\n",
       "    </tr>\n",
       "  </thead>\n",
       "  <tbody>\n",
       "    <tr>\n",
       "      <th>0</th>\n",
       "      <td>11000058</td>\n",
       "      <td>631.76</td>\n",
       "    </tr>\n",
       "    <tr>\n",
       "      <th>1</th>\n",
       "      <td>11000171</td>\n",
       "      <td>488.07</td>\n",
       "    </tr>\n",
       "    <tr>\n",
       "      <th>2</th>\n",
       "      <td>11000180</td>\n",
       "      <td>351.98</td>\n",
       "    </tr>\n",
       "    <tr>\n",
       "      <th>3</th>\n",
       "      <td>11000198</td>\n",
       "      <td>555.23</td>\n",
       "    </tr>\n",
       "    <tr>\n",
       "      <th>4</th>\n",
       "      <td>11000244</td>\n",
       "      <td>544.65</td>\n",
       "    </tr>\n",
       "  </tbody>\n",
       "</table>\n",
       "</div>"
      ],
      "text/plain": [
       "  CO_ESCOLA   NOTAS\n",
       "0  11000058  631.76\n",
       "1  11000171  488.07\n",
       "2  11000180  351.98\n",
       "3  11000198  555.23\n",
       "4  11000244  544.65"
      ]
     },
     "execution_count": 36,
     "metadata": {},
     "output_type": "execute_result"
    }
   ],
   "source": [
    "notas_por_esc = dados_enem.groupby(['CO_ESCOLA'], as_index=False).mean()[['CO_ESCOLA','NOTAS']]\n",
    "notas_por_esc['NOTAS'] = [round(notas_por_esc['NOTAS'][i], 2) for i in notas_por_esc.index]\n",
    "notas_por_esc.head()"
   ]
  },
  {
   "cell_type": "markdown",
   "id": "0bfa9902",
   "metadata": {},
   "source": [
    "Importando o conjunto de dados do Censo Escolar, no qual é possível encontrar os nomes das escolas.\n",
    "Você pode encontrar o arquivo no portal de [Dados do Censo Escolar do INEP](https://www.gov.br/inep/pt-br/acesso-a-informacao/dados-abertos/microdados/censo-escolar)."
   ]
  },
  {
   "cell_type": "code",
   "execution_count": 38,
   "id": "91c9b89f",
   "metadata": {},
   "outputs": [],
   "source": [
    "df_escolas = pd.read_csv('DADOS/ESCOLAS.csv', sep='|', encoding='ISO-8859-1', usecols= ['CO_ENTIDADE', 'NO_ENTIDADE'])"
   ]
  },
  {
   "cell_type": "markdown",
   "id": "effe2cf8",
   "metadata": {},
   "source": [
    "Visualizando as 2 primeiras linhas do conjunto de dados importado."
   ]
  },
  {
   "cell_type": "code",
   "execution_count": 39,
   "id": "79128645",
   "metadata": {},
   "outputs": [
    {
     "data": {
      "text/html": [
       "<div>\n",
       "<style scoped>\n",
       "    .dataframe tbody tr th:only-of-type {\n",
       "        vertical-align: middle;\n",
       "    }\n",
       "\n",
       "    .dataframe tbody tr th {\n",
       "        vertical-align: top;\n",
       "    }\n",
       "\n",
       "    .dataframe thead th {\n",
       "        text-align: right;\n",
       "    }\n",
       "</style>\n",
       "<table border=\"1\" class=\"dataframe\">\n",
       "  <thead>\n",
       "    <tr style=\"text-align: right;\">\n",
       "      <th></th>\n",
       "      <th>CO_ENTIDADE</th>\n",
       "      <th>NO_ENTIDADE</th>\n",
       "    </tr>\n",
       "  </thead>\n",
       "  <tbody>\n",
       "    <tr>\n",
       "      <th>0</th>\n",
       "      <td>11022370</td>\n",
       "      <td>EMEIEF CARLOS CHAGAS</td>\n",
       "    </tr>\n",
       "    <tr>\n",
       "      <th>1</th>\n",
       "      <td>11022388</td>\n",
       "      <td>EMEIEF CARLOS GOMES</td>\n",
       "    </tr>\n",
       "  </tbody>\n",
       "</table>\n",
       "</div>"
      ],
      "text/plain": [
       "   CO_ENTIDADE           NO_ENTIDADE\n",
       "0     11022370  EMEIEF CARLOS CHAGAS\n",
       "1     11022388   EMEIEF CARLOS GOMES"
      ]
     },
     "execution_count": 39,
     "metadata": {},
     "output_type": "execute_result"
    }
   ],
   "source": [
    "df_escolas.head(2)"
   ]
  },
  {
   "cell_type": "markdown",
   "id": "c1100443",
   "metadata": {},
   "source": [
    "Convertendo o tipos dos dados das colunas \"CO_ENTIDADE\" para sttring"
   ]
  },
  {
   "cell_type": "code",
   "execution_count": 40,
   "id": "62fe365e",
   "metadata": {
    "scrolled": true
   },
   "outputs": [],
   "source": [
    "df_escolas['CO_ENTIDADE'] = df_escolas['CO_ENTIDADE'].astype(str)"
   ]
  },
  {
   "cell_type": "markdown",
   "id": "49ccd377",
   "metadata": {},
   "source": [
    "Criando o um banco de dados SQLite para salvar os dados do arquivo de escolas do inep. Usaremos as colunas  \"CODIGO_ESC\" e \"NO_ENTIDADE TEXT\".\n",
    "Assim, ao cruzar os dados com a base de dados do enem, conseguiremos obter o nome das escolas que tiveram melhor desempenho utilizando **linguagem SQL**."
   ]
  },
  {
   "cell_type": "code",
   "execution_count": 45,
   "id": "d1b5e4c9",
   "metadata": {},
   "outputs": [],
   "source": [
    "con = sqlite3.connect(\"DADOS/escolas.db\")\n",
    "cur = con.cursor()\n",
    "cur.execute(\"CREATE TABLE IF NOT EXISTS tbl_escola (CODIGO_ESC CHAR(10) PRIMARY KEY, NO_ENTIDADE TEXT)\")\n",
    "\n",
    "for i in range(0, len(df_escolas['CO_ENTIDADE'])):\n",
    "    cur.execute(\"insert into tbl_escola values (?, ?)\", (df_escolas['CO_ENTIDADE'][i], df_escolas['NO_ENTIDADE'][i]))\n",
    "\n",
    "con.commit()"
   ]
  },
  {
   "cell_type": "markdown",
   "id": "d60efe78",
   "metadata": {},
   "source": [
    "Agora vamos carregar a tabela com as notas do enem por escola no banco de dados"
   ]
  },
  {
   "cell_type": "code",
   "execution_count": 46,
   "id": "f6b5e168",
   "metadata": {
    "scrolled": true
   },
   "outputs": [],
   "source": [
    "con = sqlite3.connect(\"DADOS/escolas.db\")\n",
    "cur = con.cursor()\n",
    "cur.execute(\"CREATE TABLE IF NOT EXISTS tbl_escola_notas (CO_ESC CHAR(10) PRIMARY KEY, NOTA double)\")\n",
    "\n",
    "for i in range(0, len(notas_por_esc['CO_ESCOLA'])):\n",
    "\n",
    "    cur.execute(\"insert into tbl_escola_notas (CO_ESC, NOTA) values (?, ?)\",\n",
    "                (notas_por_esc['CO_ESCOLA'][i],\n",
    "                 notas_por_esc['NOTAS'][i]))\n",
    "con.commit()   "
   ]
  },
  {
   "cell_type": "markdown",
   "id": "bae8e429",
   "metadata": {},
   "source": [
    "Instrução SQL"
   ]
  },
  {
   "cell_type": "code",
   "execution_count": 47,
   "id": "1580a668",
   "metadata": {},
   "outputs": [],
   "source": [
    "consulta= '''SELECT CO_ESC, NOTA, NO_ENTIDADE FROM tbl_escola_notas\n",
    "            INNER JOIN tbl_escola ON tbl_escola.CODIGO_ESC = tbl_escola_notas.CO_ESC ORDER BY NOTA DESC LIMIT 10;'''"
   ]
  },
  {
   "cell_type": "markdown",
   "id": "954ea270",
   "metadata": {},
   "source": [
    "Fazendo uma consulta SQL e combinando resultados pela busca em duas tabelas diferentes"
   ]
  },
  {
   "cell_type": "code",
   "execution_count": 48,
   "id": "893e7082",
   "metadata": {},
   "outputs": [],
   "source": [
    "resultado = pd.read_sql_query(consulta, con)"
   ]
  },
  {
   "cell_type": "markdown",
   "id": "e5b27be0",
   "metadata": {},
   "source": [
    "Abaixo, as 10 escolas que tiveram melhor desempenho médio no enem dos anos de 2017, 2018 e 2019"
   ]
  },
  {
   "cell_type": "code",
   "execution_count": 49,
   "id": "f81d6612",
   "metadata": {},
   "outputs": [
    {
     "data": {
      "text/html": [
       "<div>\n",
       "<style scoped>\n",
       "    .dataframe tbody tr th:only-of-type {\n",
       "        vertical-align: middle;\n",
       "    }\n",
       "\n",
       "    .dataframe tbody tr th {\n",
       "        vertical-align: top;\n",
       "    }\n",
       "\n",
       "    .dataframe thead th {\n",
       "        text-align: right;\n",
       "    }\n",
       "</style>\n",
       "<table border=\"1\" class=\"dataframe\">\n",
       "  <thead>\n",
       "    <tr style=\"text-align: right;\">\n",
       "      <th></th>\n",
       "      <th>CO_ESC</th>\n",
       "      <th>NOTA</th>\n",
       "      <th>NO_ENTIDADE</th>\n",
       "    </tr>\n",
       "  </thead>\n",
       "  <tbody>\n",
       "    <tr>\n",
       "      <th>0</th>\n",
       "      <td>15221024</td>\n",
       "      <td>779.56</td>\n",
       "      <td>ESCOLA VESTIBULANDO KIDS</td>\n",
       "    </tr>\n",
       "    <tr>\n",
       "      <th>1</th>\n",
       "      <td>24078298</td>\n",
       "      <td>776.56</td>\n",
       "      <td>EDUCANDARIO NOSSA SENHORA DA CONCEICAO</td>\n",
       "    </tr>\n",
       "    <tr>\n",
       "      <th>2</th>\n",
       "      <td>53017048</td>\n",
       "      <td>771.34</td>\n",
       "      <td>COL PODION ENSINO FUNDAMENTAL</td>\n",
       "    </tr>\n",
       "    <tr>\n",
       "      <th>3</th>\n",
       "      <td>33181586</td>\n",
       "      <td>756.76</td>\n",
       "      <td>CENTRO EDUCACIONAL ESPACO INTEGRADO</td>\n",
       "    </tr>\n",
       "    <tr>\n",
       "      <th>4</th>\n",
       "      <td>23246847</td>\n",
       "      <td>755.18</td>\n",
       "      <td>FARIAS BRITO COLEGIO DE APLICACAO</td>\n",
       "    </tr>\n",
       "    <tr>\n",
       "      <th>5</th>\n",
       "      <td>31370185</td>\n",
       "      <td>746.72</td>\n",
       "      <td>CENTRO DE EDUCACAO INFANTIL COLEGIO CERP</td>\n",
       "    </tr>\n",
       "    <tr>\n",
       "      <th>6</th>\n",
       "      <td>35137406</td>\n",
       "      <td>746.48</td>\n",
       "      <td>VERTICE COLEGIO UNIDADE I</td>\n",
       "    </tr>\n",
       "    <tr>\n",
       "      <th>7</th>\n",
       "      <td>33063540</td>\n",
       "      <td>742.70</td>\n",
       "      <td>CPII - CAMPUS HUMAITA I</td>\n",
       "    </tr>\n",
       "    <tr>\n",
       "      <th>8</th>\n",
       "      <td>23246871</td>\n",
       "      <td>741.27</td>\n",
       "      <td>ARI DE SA CAVALCANTE SEDE MARIO MAMEDE COLEGIO</td>\n",
       "    </tr>\n",
       "    <tr>\n",
       "      <th>9</th>\n",
       "      <td>31349720</td>\n",
       "      <td>740.39</td>\n",
       "      <td>FIBONACCI COLEGIO</td>\n",
       "    </tr>\n",
       "  </tbody>\n",
       "</table>\n",
       "</div>"
      ],
      "text/plain": [
       "     CO_ESC    NOTA                                     NO_ENTIDADE\n",
       "0  15221024  779.56                        ESCOLA VESTIBULANDO KIDS\n",
       "1  24078298  776.56          EDUCANDARIO NOSSA SENHORA DA CONCEICAO\n",
       "2  53017048  771.34                   COL PODION ENSINO FUNDAMENTAL\n",
       "3  33181586  756.76             CENTRO EDUCACIONAL ESPACO INTEGRADO\n",
       "4  23246847  755.18               FARIAS BRITO COLEGIO DE APLICACAO\n",
       "5  31370185  746.72        CENTRO DE EDUCACAO INFANTIL COLEGIO CERP\n",
       "6  35137406  746.48                       VERTICE COLEGIO UNIDADE I\n",
       "7  33063540  742.70                         CPII - CAMPUS HUMAITA I\n",
       "8  23246871  741.27  ARI DE SA CAVALCANTE SEDE MARIO MAMEDE COLEGIO\n",
       "9  31349720  740.39                               FIBONACCI COLEGIO"
      ]
     },
     "execution_count": 49,
     "metadata": {},
     "output_type": "execute_result"
    }
   ],
   "source": [
    "resultado"
   ]
  },
  {
   "cell_type": "code",
   "execution_count": 50,
   "id": "1f22ba1f",
   "metadata": {},
   "outputs": [],
   "source": [
    "resultado.to_csv('DADOS/resultado_analise_enem',sep=';', encoding='ISO-8859-1')"
   ]
  },
  {
   "cell_type": "markdown",
   "id": "1a1fe5fc",
   "metadata": {},
   "source": [
    "___\n",
    "\n",
    "# Muito Obrigado!\n",
    "\n",
    "###### Para qualquer dúvida ou sugestão entrar em contato pelo email: lucasflopes012@gmail.com"
   ]
  }
 ],
 "metadata": {
  "kernelspec": {
   "display_name": "Python 3 (ipykernel)",
   "language": "python",
   "name": "python3"
  },
  "language_info": {
   "codemirror_mode": {
    "name": "ipython",
    "version": 3
   },
   "file_extension": ".py",
   "mimetype": "text/x-python",
   "name": "python",
   "nbconvert_exporter": "python",
   "pygments_lexer": "ipython3",
   "version": "3.8.12"
  }
 },
 "nbformat": 4,
 "nbformat_minor": 5
}
